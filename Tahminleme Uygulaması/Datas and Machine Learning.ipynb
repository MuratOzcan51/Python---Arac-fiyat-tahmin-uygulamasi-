{
 "cells": [
  {
   "cell_type": "code",
   "execution_count": null,
   "metadata": {},
   "outputs": [],
   "source": [
    "from urllib.request import urlopen\n",
    "from bs4 import BeautifulSoup\n",
    "import pandas as pd\n",
    "import numpy as np\n",
    "import requests\n",
    "from bs4 import BeautifulSoup"
   ]
  },
  {
   "cell_type": "code",
   "execution_count": null,
   "metadata": {},
   "outputs": [],
   "source": [
    "url = \"https://www.arabam.com/ikinci-el/otomobil/toyota-auris-1-4-d-4d-comfort-extra?city=\"\n",
    "links = []\n",
    "\n",
    "for i in range(15):\n",
    "    url1 = url+str(i)+\"&take=6&page=1\"\n",
    "    html = urlopen(url1)\n",
    "    soup = BeautifulSoup(html, \"html.parser\")  \n",
    "    href = [div.a.get('href') for div in soup.find_all(class_='pr10 fade-out-content-wrapper')]\n",
    "    links.append(href)\n",
    "    \n",
    "for i in range(15):\n",
    "    url2 = url+str(i)+\"&take=6&page=2\"\n",
    "    html = urlopen(url2)\n",
    "    soup = BeautifulSoup(html, \"html.parser\")  \n",
    "    href2 = [div.a.get('href') for div in soup.find_all(class_='pr10 fade-out-content-wrapper')]\n",
    "    links.append(href2)\n",
    "    "
   ]
  },
  {
   "cell_type": "code",
   "execution_count": 104,
   "metadata": {},
   "outputs": [],
   "source": [
    "links = [j for sub in links for j in sub]"
   ]
  },
  {
   "cell_type": "code",
   "execution_count": 105,
   "metadata": {},
   "outputs": [
    {
     "data": {
      "text/plain": [
       "['https://www.arabam.com/ilan/sahibinden-satilik-toyota-auris-1-4-d-4d-comfort-extra/2012-toyota-auris-hasar-kaydi-yok-98-000km/18094503',\n",
       " 'https://www.arabam.com/ilan/sahibinden-satilik-toyota-auris-1-4-d-4d-comfort-extra/sahibinden-toyota-auris-1-4-d-4d-comfort-extra-2010-model/18053440',\n",
       " 'https://www.arabam.com/ilan/rent-a-car-dan-kiralik-toyota-auris-1-4-d-4d-comfort-extra/2010-toyota-auris-1-4d-d4-comfort-extra/18034165',\n",
       " 'https://www.arabam.com/ilan/rent-a-car-dan-kiralik-toyota-auris-1-4-d-4d-comfort-extra/2012-toyota-auris-1-4d-d4-otomatik-vites-comfort-extra/18019519',\n",
       " 'https://www.arabam.com/ilan/galeriden-satilik-toyota-auris-1-4-d-4d-comfort-extra/galeriden-toyota-auris-1-4-d-4d-comfort-extra-2012-model-adana/18014155',\n",
       " 'https://www.arabam.com/ilan/sahibinden-satilik-toyota-auris-1-4-d-4d-comfort-extra/memurdan-servis-bakimli-garantisi-gecen-yil-bitti-dizel-otomatik-ici-bej-muayene-aku-yeni/18036618',\n",
       " 'https://www.arabam.com/ilan/galeriden-satilik-toyota-auris-1-4-d-4d-comfort-extra/2012-auris-otomatik-219000-km-hatasiz/18080683',\n",
       " 'https://www.arabam.com/ilan/sahibinden-satilik-toyota-auris-1-4-d-4d-comfort-extra/sahibinden-toyota-auris-1-4-d-4d-comfort-extra-2012-model/16443943',\n",
       " 'https://www.arabam.com/ilan/galeriden-satilik-toyota-auris-1-4-d-4d-comfort-extra/galeri-beyazdan-2011-auris-1-4-d-4d-otomatik-tramersiz-hatasiz/17982566',\n",
       " 'https://www.arabam.com/ilan/sahibinden-satilik-toyota-auris-1-4-d-4d-comfort-extra/sahibinden-toyota-auris-1-4-d-4d-comfort-extra-2012-model/17968330',\n",
       " 'https://www.arabam.com/ilan/sahibinden-satilik-toyota-auris-1-4-d-4d-comfort-extra/sahibinden-toyota-auris-2011-model-degisensiz-sadece-1-parca-boyali/15651560',\n",
       " 'https://www.arabam.com/ilan/sahibinden-satilik-toyota-auris-1-4-d-4d-comfort-extra/sahibinden-toyota-auris-1-4-d-4d-comfort-extra-2011-model/17480668',\n",
       " 'https://www.arabam.com/ilan/galeriden-satilik-toyota-auris-1-4-d-4d-comfort-extra/2009-toyota-auris-dizel-otomatik-full-yetkili-servis-bakimli/18071617',\n",
       " 'https://www.arabam.com/ilan/galeriden-satilik-toyota-auris-1-4-d-4d-comfort-extra/2011-toyota-auris-1-4-d-4d-comfort-extra-full-bakimli/18071264',\n",
       " 'https://www.arabam.com/ilan/sahibinden-satilik-toyota-auris-1-4-d-4d-comfort-extra/sahibinden-toyota-auris-1-4-d-4d-comfort-extra-2010-model/15576789',\n",
       " 'https://www.arabam.com/ilan/galeriden-satilik-toyota-auris-1-4-d-4d-comfort-extra/toyota-plaza-parmaksizlar-2012-auris-1-4-d-4d-comfort-extra/18070102',\n",
       " 'https://www.arabam.com/ilan/sahibinden-satilik-toyota-auris-1-4-d-4d-comfort-extra/sahibinden-toyota-auris-1-4-d-4d-comfort-extra-2011-model/17947031',\n",
       " 'https://www.arabam.com/ilan/sahibinden-satilik-toyota-auris-1-4-d-4d-comfort-extra/sahibinden-toyota-auris-1-4-d-4d-comfort-extra-2012-model/17670541',\n",
       " 'https://www.arabam.com/ilan/sahibinden-satilik-toyota-auris-1-4-d-4d-comfort-extra/sahibinden-orjinal-51binde/17326204',\n",
       " 'https://www.arabam.com/ilan/sahibinden-satilik-toyota-auris-1-4-d-4d-comfort-extra/sahibinden-toyota-auris-1-4-d-4d-comfort-extra-2012-model/17477566',\n",
       " 'https://www.arabam.com/ilan/sahibinden-satilik-toyota-auris-1-4-d-4d-comfort-extra/sahibinden-toyota-auris-1-4-d-4d-comfort-extra-2012-model/17769259',\n",
       " 'https://www.arabam.com/ilan/sahibinden-satilik-toyota-auris-1-4-d-4d-comfort-extra/ogretmenden-toyota-auris-1-4-d-4d-comfort-extra-2012-model/17768644']"
      ]
     },
     "execution_count": 105,
     "metadata": {},
     "output_type": "execute_result"
    }
   ],
   "source": [
    "link = []\n",
    "for i, value in enumerate(links):\n",
    "    get_url = \"https://www.arabam.com\" + value\n",
    "    link.append(get_url)  \n",
    "link"
   ]
  },
  {
   "cell_type": "code",
   "execution_count": 106,
   "metadata": {},
   "outputs": [],
   "source": [
    "fiyat = []\n",
    "konum = []\n",
    "ozellik = []\n",
    "for i, value in enumerate(link):\n",
    "    link_html = urlopen(value)\n",
    "    link_soup = BeautifulSoup(link_html, \"html.parser\")\n",
    "\n",
    "    price = link_soup.find(\"span\", {\"class\" : \"color-red4 font-semi-big bold fl w66\"})\n",
    "    if price == None:\n",
    "        price = link_soup.find(\"span\", {\"class\" : \"color-red4 font-semi-big bold fl \"})\n",
    "        if price == None:\n",
    "            fiyat.append(\"None\")\n",
    "        else:\n",
    "            fiyat.append(price.text) \n",
    "    else:\n",
    "        fiyat.append(price.text)\n",
    "\n",
    "    location = link_soup.find(class_ = \"one-line-overflow font-default-minus pt4 color-black2018 bold\")\n",
    "    if location == None:\n",
    "        konum.append(\"None\")\n",
    "    else:\n",
    "        konum.append(location.text)\n",
    "    info = link_soup.find(\"ul\",{\"class\":\"w100 cf mt16\"})\n",
    "    if info == None:\n",
    "        ozellik.append(\"None\")\n",
    "    else:\n",
    "        ozellik.append(info.text)\n"
   ]
  },
  {
   "cell_type": "code",
   "execution_count": 107,
   "metadata": {},
   "outputs": [],
   "source": [
    "df = pd.DataFrame(list(zip(fiyat, konum, ozellik)), \n",
    "               columns =['Fiyat', 'Konum','Ozellik']) \n"
   ]
  },
  {
   "cell_type": "code",
   "execution_count": 108,
   "metadata": {},
   "outputs": [],
   "source": [
    "df = df[df.Ozellik != 'None'].reset_index()\n",
    "loc = df[\"Konum\"].str.split(\"/\", n = 1, expand = True)\n",
    "df.drop(columns=[\"Konum\"], inplace=True)"
   ]
  },
  {
   "cell_type": "code",
   "execution_count": 109,
   "metadata": {},
   "outputs": [],
   "source": [
    "loc.drop(columns=[1],inplace=True)"
   ]
  },
  {
   "cell_type": "code",
   "execution_count": 112,
   "metadata": {
    "scrolled": true
   },
   "outputs": [],
   "source": [
    "new = df[\"Ozellik\"].str.split(\":\", n = 14, expand = True)\n"
   ]
  },
  {
   "cell_type": "code",
   "execution_count": 114,
   "metadata": {},
   "outputs": [
    {
     "name": "stderr",
     "output_type": "stream",
     "text": [
      "C:\\Anaconda3\\lib\\site-packages\\ipykernel_launcher.py:18: FutureWarning: The default value of regex will change from True to False in a future version. In addition, single character regular expressions will *not* be treated as literal strings when regex=True.\n",
      "C:\\Anaconda3\\lib\\site-packages\\ipykernel_launcher.py:20: FutureWarning: The default value of regex will change from True to False in a future version. In addition, single character regular expressions will *not* be treated as literal strings when regex=True.\n"
     ]
    }
   ],
   "source": [
    "new[\"Marka\"] = new[3].str.replace('Seri', '')\n",
    "new[\"Seri\"] = new[4].str.replace('Model', '')\n",
    "new[\"Model\"] = new[5].str.replace('Yıl', '')\n",
    "new[\"Yıl\"] = new[6].str.replace('Yakıt Tipi', '')\n",
    "new['Yıl'] = [str(x)[:5] for x in new['Yıl']]\n",
    "new[\"Yakıt_tipi\"] = new[7].str.replace('Vites Tipi', '')\n",
    "new[\"Vites_tipi\"] = new[8].str.replace('Motor Hacmi', '')\n",
    "new[\"Kilometre\"] = new[11].str.replace('Boya-değişen', '')\n",
    "new[\"Kilometre\"] = new[\"Kilometre\"].str.replace(\"km\", \"\")\n",
    "new[\"Kilometre\"] = new[\"Kilometre\"].str.replace(\",\", \".\")\n",
    "new[\"Kilometre\"] = new[\"Kilometre\"].str.replace(\"Plaka\", \"\")\n",
    "new[\"Kilometre\"] = new[\"Kilometre\"].str.replace(\"Şasi Numarası\", \"\")\n",
    "\n",
    "\n",
    "new[\"Fiyat\"] = df[\"Fiyat\"].str.replace(\".\", \"\")\n",
    "new[\"Fiyat\"] = new[\"Fiyat\"].str.replace(\"TL\", \"\")\n",
    "new[\"Kilometre\"] = new[\"Kilometre\"].str.replace('.', '')"
   ]
  },
  {
   "cell_type": "code",
   "execution_count": 115,
   "metadata": {},
   "outputs": [
    {
     "data": {
      "text/html": [
       "<div>\n",
       "<style scoped>\n",
       "    .dataframe tbody tr th:only-of-type {\n",
       "        vertical-align: middle;\n",
       "    }\n",
       "\n",
       "    .dataframe tbody tr th {\n",
       "        vertical-align: top;\n",
       "    }\n",
       "\n",
       "    .dataframe thead th {\n",
       "        text-align: right;\n",
       "    }\n",
       "</style>\n",
       "<table border=\"1\" class=\"dataframe\">\n",
       "  <thead>\n",
       "    <tr style=\"text-align: right;\">\n",
       "      <th></th>\n",
       "      <th>Marka</th>\n",
       "      <th>Seri</th>\n",
       "      <th>Model</th>\n",
       "      <th>Yıl</th>\n",
       "      <th>Yakıt_tipi</th>\n",
       "      <th>Vites_tipi</th>\n",
       "      <th>Kilometre</th>\n",
       "      <th>Boya-değişen</th>\n",
       "      <th>Takasa_uygun</th>\n",
       "      <th>Kimden</th>\n",
       "      <th>Fiyat</th>\n",
       "    </tr>\n",
       "  </thead>\n",
       "  <tbody>\n",
       "    <tr>\n",
       "      <th>0</th>\n",
       "      <td>Toyota</td>\n",
       "      <td>Auris</td>\n",
       "      <td>1.4 D-4D Comfort Extra</td>\n",
       "      <td>2012</td>\n",
       "      <td>Dizel</td>\n",
       "      <td>Düz</td>\n",
       "      <td>98000</td>\n",
       "      <td>-    Şasi Numarası</td>\n",
       "      <td>-    Boya-değişen</td>\n",
       "      <td>Belirtilmemiş Takasa Uygun: Takasa Uygun Değil...</td>\n",
       "      <td>102900</td>\n",
       "    </tr>\n",
       "    <tr>\n",
       "      <th>1</th>\n",
       "      <td>Toyota</td>\n",
       "      <td>Auris</td>\n",
       "      <td>1.4 D-4D Comfort Extra</td>\n",
       "      <td>2010</td>\n",
       "      <td>Dizel</td>\n",
       "      <td>Düz</td>\n",
       "      <td>141500</td>\n",
       "      <td>-    Şasi Numarası</td>\n",
       "      <td>-    Boya-değişen</td>\n",
       "      <td>Belirtilmemiş Takasa Uygun: Takasa Uygun Değil...</td>\n",
       "      <td>146500</td>\n",
       "    </tr>\n",
       "    <tr>\n",
       "      <th>2</th>\n",
       "      <td>Toyota</td>\n",
       "      <td>Auris</td>\n",
       "      <td>1.4 D-4D Comfort Extra</td>\n",
       "      <td>2010</td>\n",
       "      <td>Dizel</td>\n",
       "      <td>Düz</td>\n",
       "      <td>192000</td>\n",
       "      <td>-    Şasi Numarası</td>\n",
       "      <td>-****************    Boya-değişen</td>\n",
       "      <td>Belirtilmemiş Takasa Uygun: Takasa Uygun    Ki...</td>\n",
       "      <td>115850</td>\n",
       "    </tr>\n",
       "    <tr>\n",
       "      <th>3</th>\n",
       "      <td>Toyota</td>\n",
       "      <td>Auris</td>\n",
       "      <td>1.4 D-4D Comfort Extra</td>\n",
       "      <td>2012</td>\n",
       "      <td>Dizel</td>\n",
       "      <td>Yarı Otomatik</td>\n",
       "      <td>197000</td>\n",
       "      <td>-    Şasi Numarası</td>\n",
       "      <td>-****************    Boya-değişen</td>\n",
       "      <td>Belirtilmemiş Takasa Uygun: Takasa Uygun    Ki...</td>\n",
       "      <td>136850</td>\n",
       "    </tr>\n",
       "    <tr>\n",
       "      <th>4</th>\n",
       "      <td>Toyota</td>\n",
       "      <td>Auris</td>\n",
       "      <td>1.4 D-4D Comfort Extra</td>\n",
       "      <td>2012</td>\n",
       "      <td>Dizel</td>\n",
       "      <td>Yarı Otomatik</td>\n",
       "      <td>197000</td>\n",
       "      <td>djdhd************    Plaka</td>\n",
       "      <td>jejd    Boya-değişen</td>\n",
       "      <td>1 değişen, 2 boyalı Takasa Uygun: Takasa Uygun...</td>\n",
       "      <td>136850</td>\n",
       "    </tr>\n",
       "    <tr>\n",
       "      <th>5</th>\n",
       "      <td>Toyota</td>\n",
       "      <td>Auris</td>\n",
       "      <td>1.4 D-4D Comfort Extra</td>\n",
       "      <td>2011</td>\n",
       "      <td>Dizel</td>\n",
       "      <td>Yarı Otomatik</td>\n",
       "      <td>191000</td>\n",
       "      <td>-    Şasi Numarası</td>\n",
       "      <td>-    Boya-değişen</td>\n",
       "      <td>Belirtilmemiş Takasa Uygun: Takasa Uygun    Ki...</td>\n",
       "      <td>137000</td>\n",
       "    </tr>\n",
       "    <tr>\n",
       "      <th>6</th>\n",
       "      <td>Toyota</td>\n",
       "      <td>Auris</td>\n",
       "      <td>1.4 D-4D Comfort Extra</td>\n",
       "      <td>2012</td>\n",
       "      <td>Dizel</td>\n",
       "      <td>Yarı Otomatik</td>\n",
       "      <td>219000</td>\n",
       "      <td>-    Şasi Numarası</td>\n",
       "      <td>-****************    Boya-değişen</td>\n",
       "      <td>Belirtilmemiş Takasa Uygun: Takasa Uygun    Ki...</td>\n",
       "      <td>172500</td>\n",
       "    </tr>\n",
       "    <tr>\n",
       "      <th>7</th>\n",
       "      <td>Toyota</td>\n",
       "      <td>Auris</td>\n",
       "      <td>1.4 D-4D Comfort Extra</td>\n",
       "      <td>2012</td>\n",
       "      <td>Dizel</td>\n",
       "      <td>Yarı Otomatik</td>\n",
       "      <td>96130</td>\n",
       "      <td>-    Şasi Numarası</td>\n",
       "      <td>-    Boya-değişen</td>\n",
       "      <td>1 boyalı Takasa Uygun: Takasa Uygun Değil    K...</td>\n",
       "      <td>146500</td>\n",
       "    </tr>\n",
       "    <tr>\n",
       "      <th>8</th>\n",
       "      <td>Toyota</td>\n",
       "      <td>Auris</td>\n",
       "      <td>1.4 D-4D Comfort Extra</td>\n",
       "      <td>2011</td>\n",
       "      <td>Dizel</td>\n",
       "      <td>Yarı Otomatik</td>\n",
       "      <td>149800</td>\n",
       "      <td>06 CNA 6496    Şasi Numarası</td>\n",
       "      <td>111111111********    Boya-değişen</td>\n",
       "      <td>Belirtilmemiş Takasa Uygun: Takasa Uygun    Ki...</td>\n",
       "      <td>145000</td>\n",
       "    </tr>\n",
       "    <tr>\n",
       "      <th>9</th>\n",
       "      <td>Toyota</td>\n",
       "      <td>Auris</td>\n",
       "      <td>1.4 D-4D Comfort Extra</td>\n",
       "      <td>2012</td>\n",
       "      <td>Dizel</td>\n",
       "      <td>Düz</td>\n",
       "      <td>187500</td>\n",
       "      <td>06DN    Şasi Numarası</td>\n",
       "      <td>-    Boya-değişen</td>\n",
       "      <td>1 değişen, 4 boyalı Takasa Uygun: Takasa Uygun...</td>\n",
       "      <td>114000</td>\n",
       "    </tr>\n",
       "    <tr>\n",
       "      <th>10</th>\n",
       "      <td>Toyota</td>\n",
       "      <td>Auris</td>\n",
       "      <td>1.4 D-4D Comfort Extra</td>\n",
       "      <td>2011</td>\n",
       "      <td>Dizel</td>\n",
       "      <td>Yarı Otomatik</td>\n",
       "      <td>187000</td>\n",
       "      <td>2 boyalı</td>\n",
       "      <td>Takasa Uygun Değil</td>\n",
       "      <td>Sahibinden</td>\n",
       "      <td>137000</td>\n",
       "    </tr>\n",
       "    <tr>\n",
       "      <th>11</th>\n",
       "      <td>Toyota</td>\n",
       "      <td>Auris</td>\n",
       "      <td>1.4 D-4D Comfort Extra</td>\n",
       "      <td>2011</td>\n",
       "      <td>Dizel</td>\n",
       "      <td>Yarı Otomatik</td>\n",
       "      <td>122000</td>\n",
       "      <td>-    Şasi Numarası</td>\n",
       "      <td>-    Boya-değişen</td>\n",
       "      <td>1 boyalı Takasa Uygun: Takasa Uygun Değil    K...</td>\n",
       "      <td>144500</td>\n",
       "    </tr>\n",
       "    <tr>\n",
       "      <th>12</th>\n",
       "      <td>Toyota</td>\n",
       "      <td>Auris</td>\n",
       "      <td>1.4 D-4D Comfort Extra</td>\n",
       "      <td>2009</td>\n",
       "      <td>Dizel</td>\n",
       "      <td>Yarı Otomatik</td>\n",
       "      <td>274000</td>\n",
       "      <td>-    Şasi Numarası</td>\n",
       "      <td>-****************    Boya-değişen</td>\n",
       "      <td>Belirtilmemiş Takasa Uygun: Takasa Uygun    Ki...</td>\n",
       "      <td>125000</td>\n",
       "    </tr>\n",
       "    <tr>\n",
       "      <th>13</th>\n",
       "      <td>Toyota</td>\n",
       "      <td>Auris</td>\n",
       "      <td>1.4 D-4D Comfort Extra</td>\n",
       "      <td>2011</td>\n",
       "      <td>Dizel</td>\n",
       "      <td>Yarı Otomatik</td>\n",
       "      <td>179000</td>\n",
       "      <td>-    Şasi Numarası</td>\n",
       "      <td>-****************    Boya-değişen</td>\n",
       "      <td>Belirtilmemiş Takasa Uygun: Takasa Uygun    Ki...</td>\n",
       "      <td>139500</td>\n",
       "    </tr>\n",
       "    <tr>\n",
       "      <th>14</th>\n",
       "      <td>Toyota</td>\n",
       "      <td>Auris</td>\n",
       "      <td>1.4 D-4D Comfort Extra</td>\n",
       "      <td>2010</td>\n",
       "      <td>Dizel</td>\n",
       "      <td>Yarı Otomatik</td>\n",
       "      <td>199000</td>\n",
       "      <td>-    Şasi Numarası</td>\n",
       "      <td>-    Boya-değişen</td>\n",
       "      <td>Tamamı orjinal Takasa Uygun: Takasa Uygun Deği...</td>\n",
       "      <td>141250</td>\n",
       "    </tr>\n",
       "    <tr>\n",
       "      <th>15</th>\n",
       "      <td>Toyota</td>\n",
       "      <td>Auris</td>\n",
       "      <td>1.4 D-4D Comfort Extra</td>\n",
       "      <td>2012</td>\n",
       "      <td>Dizel</td>\n",
       "      <td>Düz</td>\n",
       "      <td>190000</td>\n",
       "      <td>-    Şasi Numarası</td>\n",
       "      <td>-****************    Boya-değişen</td>\n",
       "      <td>Belirtilmemiş Takasa Uygun: Takasa Uygun    Ki...</td>\n",
       "      <td>134000</td>\n",
       "    </tr>\n",
       "    <tr>\n",
       "      <th>16</th>\n",
       "      <td>Toyota</td>\n",
       "      <td>Auris</td>\n",
       "      <td>1.4 D-4D Comfort Extra</td>\n",
       "      <td>2011</td>\n",
       "      <td>Dizel</td>\n",
       "      <td>Düz</td>\n",
       "      <td>112000</td>\n",
       "      <td>09JV913    Şasi Numarası</td>\n",
       "      <td>-    Boya-değişen</td>\n",
       "      <td>2 değişen Takasa Uygun: Takasa Uygun Değil    ...</td>\n",
       "      <td>127000</td>\n",
       "    </tr>\n",
       "    <tr>\n",
       "      <th>17</th>\n",
       "      <td>Toyota</td>\n",
       "      <td>Auris</td>\n",
       "      <td>1.4 D-4D Comfort Extra</td>\n",
       "      <td>2012</td>\n",
       "      <td>Dizel</td>\n",
       "      <td>Düz</td>\n",
       "      <td>111000</td>\n",
       "      <td>-    Şasi Numarası</td>\n",
       "      <td>-    Boya-değişen</td>\n",
       "      <td>2 boyalı Takasa Uygun: Takasa Uygun Değil    K...</td>\n",
       "      <td>142500</td>\n",
       "    </tr>\n",
       "    <tr>\n",
       "      <th>18</th>\n",
       "      <td>Toyota</td>\n",
       "      <td>Auris</td>\n",
       "      <td>1.4 D-4D Comfort Extra</td>\n",
       "      <td>2012</td>\n",
       "      <td>Dizel</td>\n",
       "      <td>Düz</td>\n",
       "      <td>51000</td>\n",
       "      <td>14 aap102    Şasi Numarası</td>\n",
       "      <td>-    Boya-değişen</td>\n",
       "      <td>2 boyalı Takasa Uygun: Takasa Uygun Değil    K...</td>\n",
       "      <td>151750</td>\n",
       "    </tr>\n",
       "    <tr>\n",
       "      <th>19</th>\n",
       "      <td>Toyota</td>\n",
       "      <td>Auris</td>\n",
       "      <td>1.4 D-4D Comfort Extra</td>\n",
       "      <td>2012</td>\n",
       "      <td>Dizel</td>\n",
       "      <td>Yarı Otomatik</td>\n",
       "      <td>179000</td>\n",
       "      <td>-    Şasi Numarası</td>\n",
       "      <td>-    Boya-değişen</td>\n",
       "      <td>3 boyalı Takasa Uygun: Takasa Uygun    Kimden:...</td>\n",
       "      <td>135000</td>\n",
       "    </tr>\n",
       "    <tr>\n",
       "      <th>20</th>\n",
       "      <td>Toyota</td>\n",
       "      <td>Auris</td>\n",
       "      <td>1.4 D-4D Comfort Extra</td>\n",
       "      <td>2012</td>\n",
       "      <td>Dizel</td>\n",
       "      <td>Düz</td>\n",
       "      <td>145600</td>\n",
       "      <td>-    Şasi Numarası</td>\n",
       "      <td>-    Boya-değişen</td>\n",
       "      <td>2 boyalı Takasa Uygun: Takasa Uygun    Kimden:...</td>\n",
       "      <td>130000</td>\n",
       "    </tr>\n",
       "    <tr>\n",
       "      <th>21</th>\n",
       "      <td>Toyota</td>\n",
       "      <td>Auris</td>\n",
       "      <td>1.4 D-4D Comfort Extra</td>\n",
       "      <td>2012</td>\n",
       "      <td>Dizel</td>\n",
       "      <td>Düz</td>\n",
       "      <td>149000</td>\n",
       "      <td>-    Şasi Numarası</td>\n",
       "      <td>-    Boya-değişen</td>\n",
       "      <td>5 boyalı Takasa Uygun: Takasa Uygun Değil    K...</td>\n",
       "      <td>97500</td>\n",
       "    </tr>\n",
       "  </tbody>\n",
       "</table>\n",
       "</div>"
      ],
      "text/plain": [
       "          Marka        Seri                        Model    Yıl  Yakıt_tipi  \\\n",
       "0    Toyota       Auris       1.4 D-4D Comfort Extra       2012   Dizel       \n",
       "1    Toyota       Auris       1.4 D-4D Comfort Extra       2010   Dizel       \n",
       "2    Toyota       Auris       1.4 D-4D Comfort Extra       2010   Dizel       \n",
       "3    Toyota       Auris       1.4 D-4D Comfort Extra       2012   Dizel       \n",
       "4    Toyota       Auris       1.4 D-4D Comfort Extra       2012   Dizel       \n",
       "5    Toyota       Auris       1.4 D-4D Comfort Extra       2011   Dizel       \n",
       "6    Toyota       Auris       1.4 D-4D Comfort Extra       2012   Dizel       \n",
       "7    Toyota       Auris       1.4 D-4D Comfort Extra       2012   Dizel       \n",
       "8    Toyota       Auris       1.4 D-4D Comfort Extra       2011   Dizel       \n",
       "9    Toyota       Auris       1.4 D-4D Comfort Extra       2012   Dizel       \n",
       "10   Toyota       Auris       1.4 D-4D Comfort Extra       2011   Dizel       \n",
       "11   Toyota       Auris       1.4 D-4D Comfort Extra       2011   Dizel       \n",
       "12   Toyota       Auris       1.4 D-4D Comfort Extra       2009   Dizel       \n",
       "13   Toyota       Auris       1.4 D-4D Comfort Extra       2011   Dizel       \n",
       "14   Toyota       Auris       1.4 D-4D Comfort Extra       2010   Dizel       \n",
       "15   Toyota       Auris       1.4 D-4D Comfort Extra       2012   Dizel       \n",
       "16   Toyota       Auris       1.4 D-4D Comfort Extra       2011   Dizel       \n",
       "17   Toyota       Auris       1.4 D-4D Comfort Extra       2012   Dizel       \n",
       "18   Toyota       Auris       1.4 D-4D Comfort Extra       2012   Dizel       \n",
       "19   Toyota       Auris       1.4 D-4D Comfort Extra       2012   Dizel       \n",
       "20   Toyota       Auris       1.4 D-4D Comfort Extra       2012   Dizel       \n",
       "21   Toyota       Auris       1.4 D-4D Comfort Extra       2012   Dizel       \n",
       "\n",
       "            Vites_tipi     Kilometre                   Boya-değişen  \\\n",
       "0              Düz        98000                  -    Şasi Numarası   \n",
       "1              Düz       141500                  -    Şasi Numarası   \n",
       "2              Düz       192000                  -    Şasi Numarası   \n",
       "3    Yarı Otomatik       197000                  -    Şasi Numarası   \n",
       "4    Yarı Otomatik       197000          djdhd************    Plaka   \n",
       "5    Yarı Otomatik       191000                  -    Şasi Numarası   \n",
       "6    Yarı Otomatik       219000                  -    Şasi Numarası   \n",
       "7    Yarı Otomatik        96130                  -    Şasi Numarası   \n",
       "8    Yarı Otomatik       149800        06 CNA 6496    Şasi Numarası   \n",
       "9              Düz       187500               06DN    Şasi Numarası   \n",
       "10   Yarı Otomatik       187000                           2 boyalı    \n",
       "11   Yarı Otomatik       122000                  -    Şasi Numarası   \n",
       "12   Yarı Otomatik       274000                  -    Şasi Numarası   \n",
       "13   Yarı Otomatik       179000                  -    Şasi Numarası   \n",
       "14   Yarı Otomatik       199000                  -    Şasi Numarası   \n",
       "15             Düz       190000                  -    Şasi Numarası   \n",
       "16             Düz       112000            09JV913    Şasi Numarası   \n",
       "17             Düz       111000                  -    Şasi Numarası   \n",
       "18             Düz        51000          14 aap102    Şasi Numarası   \n",
       "19   Yarı Otomatik       179000                  -    Şasi Numarası   \n",
       "20             Düz       145600                  -    Şasi Numarası   \n",
       "21             Düz       149000                  -    Şasi Numarası   \n",
       "\n",
       "                          Takasa_uygun  \\\n",
       "0                    -    Boya-değişen   \n",
       "1                    -    Boya-değişen   \n",
       "2    -****************    Boya-değişen   \n",
       "3    -****************    Boya-değişen   \n",
       "4                 jejd    Boya-değişen   \n",
       "5                    -    Boya-değişen   \n",
       "6    -****************    Boya-değişen   \n",
       "7                    -    Boya-değişen   \n",
       "8    111111111********    Boya-değişen   \n",
       "9                    -    Boya-değişen   \n",
       "10              Takasa Uygun Değil       \n",
       "11                   -    Boya-değişen   \n",
       "12   -****************    Boya-değişen   \n",
       "13   -****************    Boya-değişen   \n",
       "14                   -    Boya-değişen   \n",
       "15   -****************    Boya-değişen   \n",
       "16                   -    Boya-değişen   \n",
       "17                   -    Boya-değişen   \n",
       "18                   -    Boya-değişen   \n",
       "19                   -    Boya-değişen   \n",
       "20                   -    Boya-değişen   \n",
       "21                   -    Boya-değişen   \n",
       "\n",
       "                                               Kimden      Fiyat  \n",
       "0   Belirtilmemiş Takasa Uygun: Takasa Uygun Değil...   102900    \n",
       "1   Belirtilmemiş Takasa Uygun: Takasa Uygun Değil...   146500    \n",
       "2   Belirtilmemiş Takasa Uygun: Takasa Uygun    Ki...   115850    \n",
       "3   Belirtilmemiş Takasa Uygun: Takasa Uygun    Ki...   136850    \n",
       "4   1 değişen, 2 boyalı Takasa Uygun: Takasa Uygun...   136850    \n",
       "5   Belirtilmemiş Takasa Uygun: Takasa Uygun    Ki...   137000    \n",
       "6   Belirtilmemiş Takasa Uygun: Takasa Uygun    Ki...   172500    \n",
       "7   1 boyalı Takasa Uygun: Takasa Uygun Değil    K...   146500    \n",
       "8   Belirtilmemiş Takasa Uygun: Takasa Uygun    Ki...   145000    \n",
       "9   1 değişen, 4 boyalı Takasa Uygun: Takasa Uygun...   114000    \n",
       "10                                     Sahibinden       137000    \n",
       "11  1 boyalı Takasa Uygun: Takasa Uygun Değil    K...   144500    \n",
       "12  Belirtilmemiş Takasa Uygun: Takasa Uygun    Ki...   125000    \n",
       "13  Belirtilmemiş Takasa Uygun: Takasa Uygun    Ki...   139500    \n",
       "14  Tamamı orjinal Takasa Uygun: Takasa Uygun Deği...   141250    \n",
       "15  Belirtilmemiş Takasa Uygun: Takasa Uygun    Ki...   134000    \n",
       "16  2 değişen Takasa Uygun: Takasa Uygun Değil    ...   127000    \n",
       "17  2 boyalı Takasa Uygun: Takasa Uygun Değil    K...   142500    \n",
       "18  2 boyalı Takasa Uygun: Takasa Uygun Değil    K...   151750    \n",
       "19  3 boyalı Takasa Uygun: Takasa Uygun    Kimden:...   135000    \n",
       "20  2 boyalı Takasa Uygun: Takasa Uygun    Kimden:...   130000    \n",
       "21  5 boyalı Takasa Uygun: Takasa Uygun Değil    K...    97500    "
      ]
     },
     "execution_count": 115,
     "metadata": {},
     "output_type": "execute_result"
    }
   ],
   "source": [
    "new.drop(columns=[0,1,2,3,4,5,6,7,8,9,10,11,12,13,14], axis=1, inplace=True)\n",
    "new"
   ]
  },
  {
   "cell_type": "code",
   "execution_count": 121,
   "metadata": {},
   "outputs": [
    {
     "data": {
      "text/html": [
       "<div>\n",
       "<style scoped>\n",
       "    .dataframe tbody tr th:only-of-type {\n",
       "        vertical-align: middle;\n",
       "    }\n",
       "\n",
       "    .dataframe tbody tr th {\n",
       "        vertical-align: top;\n",
       "    }\n",
       "\n",
       "    .dataframe thead th {\n",
       "        text-align: right;\n",
       "    }\n",
       "</style>\n",
       "<table border=\"1\" class=\"dataframe\">\n",
       "  <thead>\n",
       "    <tr style=\"text-align: right;\">\n",
       "      <th></th>\n",
       "      <th>Marka</th>\n",
       "      <th>Seri</th>\n",
       "      <th>Model</th>\n",
       "      <th>Yıl</th>\n",
       "      <th>Yakıt_tipi</th>\n",
       "      <th>Vites_tipi</th>\n",
       "      <th>Kilometre</th>\n",
       "      <th>Fiyat</th>\n",
       "    </tr>\n",
       "  </thead>\n",
       "  <tbody>\n",
       "    <tr>\n",
       "      <th>0</th>\n",
       "      <td>Toyota</td>\n",
       "      <td>Auris</td>\n",
       "      <td>1.4 D-4D Comfort Extra</td>\n",
       "      <td>2012</td>\n",
       "      <td>Dizel</td>\n",
       "      <td>Düz</td>\n",
       "      <td>98000</td>\n",
       "      <td>102900</td>\n",
       "    </tr>\n",
       "    <tr>\n",
       "      <th>1</th>\n",
       "      <td>Toyota</td>\n",
       "      <td>Auris</td>\n",
       "      <td>1.4 D-4D Comfort Extra</td>\n",
       "      <td>2010</td>\n",
       "      <td>Dizel</td>\n",
       "      <td>Düz</td>\n",
       "      <td>141500</td>\n",
       "      <td>146500</td>\n",
       "    </tr>\n",
       "    <tr>\n",
       "      <th>2</th>\n",
       "      <td>Toyota</td>\n",
       "      <td>Auris</td>\n",
       "      <td>1.4 D-4D Comfort Extra</td>\n",
       "      <td>2010</td>\n",
       "      <td>Dizel</td>\n",
       "      <td>Düz</td>\n",
       "      <td>192000</td>\n",
       "      <td>115850</td>\n",
       "    </tr>\n",
       "    <tr>\n",
       "      <th>3</th>\n",
       "      <td>Toyota</td>\n",
       "      <td>Auris</td>\n",
       "      <td>1.4 D-4D Comfort Extra</td>\n",
       "      <td>2012</td>\n",
       "      <td>Dizel</td>\n",
       "      <td>Yarı Otomatik</td>\n",
       "      <td>197000</td>\n",
       "      <td>136850</td>\n",
       "    </tr>\n",
       "    <tr>\n",
       "      <th>4</th>\n",
       "      <td>Toyota</td>\n",
       "      <td>Auris</td>\n",
       "      <td>1.4 D-4D Comfort Extra</td>\n",
       "      <td>2012</td>\n",
       "      <td>Dizel</td>\n",
       "      <td>Yarı Otomatik</td>\n",
       "      <td>197000</td>\n",
       "      <td>136850</td>\n",
       "    </tr>\n",
       "    <tr>\n",
       "      <th>5</th>\n",
       "      <td>Toyota</td>\n",
       "      <td>Auris</td>\n",
       "      <td>1.4 D-4D Comfort Extra</td>\n",
       "      <td>2011</td>\n",
       "      <td>Dizel</td>\n",
       "      <td>Yarı Otomatik</td>\n",
       "      <td>191000</td>\n",
       "      <td>137000</td>\n",
       "    </tr>\n",
       "    <tr>\n",
       "      <th>6</th>\n",
       "      <td>Toyota</td>\n",
       "      <td>Auris</td>\n",
       "      <td>1.4 D-4D Comfort Extra</td>\n",
       "      <td>2012</td>\n",
       "      <td>Dizel</td>\n",
       "      <td>Yarı Otomatik</td>\n",
       "      <td>219000</td>\n",
       "      <td>172500</td>\n",
       "    </tr>\n",
       "    <tr>\n",
       "      <th>7</th>\n",
       "      <td>Toyota</td>\n",
       "      <td>Auris</td>\n",
       "      <td>1.4 D-4D Comfort Extra</td>\n",
       "      <td>2012</td>\n",
       "      <td>Dizel</td>\n",
       "      <td>Yarı Otomatik</td>\n",
       "      <td>96130</td>\n",
       "      <td>146500</td>\n",
       "    </tr>\n",
       "    <tr>\n",
       "      <th>8</th>\n",
       "      <td>Toyota</td>\n",
       "      <td>Auris</td>\n",
       "      <td>1.4 D-4D Comfort Extra</td>\n",
       "      <td>2011</td>\n",
       "      <td>Dizel</td>\n",
       "      <td>Yarı Otomatik</td>\n",
       "      <td>149800</td>\n",
       "      <td>145000</td>\n",
       "    </tr>\n",
       "    <tr>\n",
       "      <th>9</th>\n",
       "      <td>Toyota</td>\n",
       "      <td>Auris</td>\n",
       "      <td>1.4 D-4D Comfort Extra</td>\n",
       "      <td>2012</td>\n",
       "      <td>Dizel</td>\n",
       "      <td>Düz</td>\n",
       "      <td>187500</td>\n",
       "      <td>114000</td>\n",
       "    </tr>\n",
       "    <tr>\n",
       "      <th>10</th>\n",
       "      <td>Toyota</td>\n",
       "      <td>Auris</td>\n",
       "      <td>1.4 D-4D Comfort Extra</td>\n",
       "      <td>2011</td>\n",
       "      <td>Dizel</td>\n",
       "      <td>Yarı Otomatik</td>\n",
       "      <td>187000</td>\n",
       "      <td>137000</td>\n",
       "    </tr>\n",
       "    <tr>\n",
       "      <th>11</th>\n",
       "      <td>Toyota</td>\n",
       "      <td>Auris</td>\n",
       "      <td>1.4 D-4D Comfort Extra</td>\n",
       "      <td>2011</td>\n",
       "      <td>Dizel</td>\n",
       "      <td>Yarı Otomatik</td>\n",
       "      <td>122000</td>\n",
       "      <td>144500</td>\n",
       "    </tr>\n",
       "    <tr>\n",
       "      <th>12</th>\n",
       "      <td>Toyota</td>\n",
       "      <td>Auris</td>\n",
       "      <td>1.4 D-4D Comfort Extra</td>\n",
       "      <td>2009</td>\n",
       "      <td>Dizel</td>\n",
       "      <td>Yarı Otomatik</td>\n",
       "      <td>274000</td>\n",
       "      <td>125000</td>\n",
       "    </tr>\n",
       "    <tr>\n",
       "      <th>13</th>\n",
       "      <td>Toyota</td>\n",
       "      <td>Auris</td>\n",
       "      <td>1.4 D-4D Comfort Extra</td>\n",
       "      <td>2011</td>\n",
       "      <td>Dizel</td>\n",
       "      <td>Yarı Otomatik</td>\n",
       "      <td>179000</td>\n",
       "      <td>139500</td>\n",
       "    </tr>\n",
       "    <tr>\n",
       "      <th>14</th>\n",
       "      <td>Toyota</td>\n",
       "      <td>Auris</td>\n",
       "      <td>1.4 D-4D Comfort Extra</td>\n",
       "      <td>2010</td>\n",
       "      <td>Dizel</td>\n",
       "      <td>Yarı Otomatik</td>\n",
       "      <td>199000</td>\n",
       "      <td>141250</td>\n",
       "    </tr>\n",
       "    <tr>\n",
       "      <th>15</th>\n",
       "      <td>Toyota</td>\n",
       "      <td>Auris</td>\n",
       "      <td>1.4 D-4D Comfort Extra</td>\n",
       "      <td>2012</td>\n",
       "      <td>Dizel</td>\n",
       "      <td>Düz</td>\n",
       "      <td>190000</td>\n",
       "      <td>134000</td>\n",
       "    </tr>\n",
       "    <tr>\n",
       "      <th>16</th>\n",
       "      <td>Toyota</td>\n",
       "      <td>Auris</td>\n",
       "      <td>1.4 D-4D Comfort Extra</td>\n",
       "      <td>2011</td>\n",
       "      <td>Dizel</td>\n",
       "      <td>Düz</td>\n",
       "      <td>112000</td>\n",
       "      <td>127000</td>\n",
       "    </tr>\n",
       "    <tr>\n",
       "      <th>17</th>\n",
       "      <td>Toyota</td>\n",
       "      <td>Auris</td>\n",
       "      <td>1.4 D-4D Comfort Extra</td>\n",
       "      <td>2012</td>\n",
       "      <td>Dizel</td>\n",
       "      <td>Düz</td>\n",
       "      <td>111000</td>\n",
       "      <td>142500</td>\n",
       "    </tr>\n",
       "    <tr>\n",
       "      <th>18</th>\n",
       "      <td>Toyota</td>\n",
       "      <td>Auris</td>\n",
       "      <td>1.4 D-4D Comfort Extra</td>\n",
       "      <td>2012</td>\n",
       "      <td>Dizel</td>\n",
       "      <td>Düz</td>\n",
       "      <td>51000</td>\n",
       "      <td>151750</td>\n",
       "    </tr>\n",
       "    <tr>\n",
       "      <th>19</th>\n",
       "      <td>Toyota</td>\n",
       "      <td>Auris</td>\n",
       "      <td>1.4 D-4D Comfort Extra</td>\n",
       "      <td>2012</td>\n",
       "      <td>Dizel</td>\n",
       "      <td>Yarı Otomatik</td>\n",
       "      <td>179000</td>\n",
       "      <td>135000</td>\n",
       "    </tr>\n",
       "    <tr>\n",
       "      <th>20</th>\n",
       "      <td>Toyota</td>\n",
       "      <td>Auris</td>\n",
       "      <td>1.4 D-4D Comfort Extra</td>\n",
       "      <td>2012</td>\n",
       "      <td>Dizel</td>\n",
       "      <td>Düz</td>\n",
       "      <td>145600</td>\n",
       "      <td>130000</td>\n",
       "    </tr>\n",
       "    <tr>\n",
       "      <th>21</th>\n",
       "      <td>Toyota</td>\n",
       "      <td>Auris</td>\n",
       "      <td>1.4 D-4D Comfort Extra</td>\n",
       "      <td>2012</td>\n",
       "      <td>Dizel</td>\n",
       "      <td>Düz</td>\n",
       "      <td>149000</td>\n",
       "      <td>97500</td>\n",
       "    </tr>\n",
       "  </tbody>\n",
       "</table>\n",
       "</div>"
      ],
      "text/plain": [
       "          Marka        Seri                        Model    Yıl  Yakıt_tipi  \\\n",
       "0    Toyota       Auris       1.4 D-4D Comfort Extra       2012   Dizel       \n",
       "1    Toyota       Auris       1.4 D-4D Comfort Extra       2010   Dizel       \n",
       "2    Toyota       Auris       1.4 D-4D Comfort Extra       2010   Dizel       \n",
       "3    Toyota       Auris       1.4 D-4D Comfort Extra       2012   Dizel       \n",
       "4    Toyota       Auris       1.4 D-4D Comfort Extra       2012   Dizel       \n",
       "5    Toyota       Auris       1.4 D-4D Comfort Extra       2011   Dizel       \n",
       "6    Toyota       Auris       1.4 D-4D Comfort Extra       2012   Dizel       \n",
       "7    Toyota       Auris       1.4 D-4D Comfort Extra       2012   Dizel       \n",
       "8    Toyota       Auris       1.4 D-4D Comfort Extra       2011   Dizel       \n",
       "9    Toyota       Auris       1.4 D-4D Comfort Extra       2012   Dizel       \n",
       "10   Toyota       Auris       1.4 D-4D Comfort Extra       2011   Dizel       \n",
       "11   Toyota       Auris       1.4 D-4D Comfort Extra       2011   Dizel       \n",
       "12   Toyota       Auris       1.4 D-4D Comfort Extra       2009   Dizel       \n",
       "13   Toyota       Auris       1.4 D-4D Comfort Extra       2011   Dizel       \n",
       "14   Toyota       Auris       1.4 D-4D Comfort Extra       2010   Dizel       \n",
       "15   Toyota       Auris       1.4 D-4D Comfort Extra       2012   Dizel       \n",
       "16   Toyota       Auris       1.4 D-4D Comfort Extra       2011   Dizel       \n",
       "17   Toyota       Auris       1.4 D-4D Comfort Extra       2012   Dizel       \n",
       "18   Toyota       Auris       1.4 D-4D Comfort Extra       2012   Dizel       \n",
       "19   Toyota       Auris       1.4 D-4D Comfort Extra       2012   Dizel       \n",
       "20   Toyota       Auris       1.4 D-4D Comfort Extra       2012   Dizel       \n",
       "21   Toyota       Auris       1.4 D-4D Comfort Extra       2012   Dizel       \n",
       "\n",
       "            Vites_tipi     Kilometre      Fiyat  \n",
       "0              Düz        98000        102900    \n",
       "1              Düz       141500        146500    \n",
       "2              Düz       192000        115850    \n",
       "3    Yarı Otomatik       197000        136850    \n",
       "4    Yarı Otomatik       197000        136850    \n",
       "5    Yarı Otomatik       191000        137000    \n",
       "6    Yarı Otomatik       219000        172500    \n",
       "7    Yarı Otomatik        96130        146500    \n",
       "8    Yarı Otomatik       149800        145000    \n",
       "9              Düz       187500        114000    \n",
       "10   Yarı Otomatik       187000        137000    \n",
       "11   Yarı Otomatik       122000        144500    \n",
       "12   Yarı Otomatik       274000        125000    \n",
       "13   Yarı Otomatik       179000        139500    \n",
       "14   Yarı Otomatik       199000        141250    \n",
       "15             Düz       190000        134000    \n",
       "16             Düz       112000        127000    \n",
       "17             Düz       111000        142500    \n",
       "18             Düz        51000        151750    \n",
       "19   Yarı Otomatik       179000        135000    \n",
       "20             Düz       145600        130000    \n",
       "21             Düz       149000         97500    "
      ]
     },
     "execution_count": 121,
     "metadata": {},
     "output_type": "execute_result"
    }
   ],
   "source": [
    "del new[\"Boya-değişen\"]\n",
    "del new[\"Takasa_uygun\"]\n",
    "del new[\"Kimden\"]\n",
    "new\n"
   ]
  },
  {
   "cell_type": "code",
   "execution_count": null,
   "metadata": {},
   "outputs": [],
   "source": [
    "new.to_csv(\"datasets.xlsx\")"
   ]
  },
  {
   "cell_type": "code",
   "execution_count": 2,
   "metadata": {},
   "outputs": [
    {
     "data": {
      "text/html": [
       "<div>\n",
       "<style scoped>\n",
       "    .dataframe tbody tr th:only-of-type {\n",
       "        vertical-align: middle;\n",
       "    }\n",
       "\n",
       "    .dataframe tbody tr th {\n",
       "        vertical-align: top;\n",
       "    }\n",
       "\n",
       "    .dataframe thead th {\n",
       "        text-align: right;\n",
       "    }\n",
       "</style>\n",
       "<table border=\"1\" class=\"dataframe\">\n",
       "  <thead>\n",
       "    <tr style=\"text-align: right;\">\n",
       "      <th></th>\n",
       "      <th>Fiyat</th>\n",
       "      <th>Marka</th>\n",
       "      <th>Seri</th>\n",
       "      <th>Model</th>\n",
       "      <th>Yıl</th>\n",
       "      <th>Yakıt</th>\n",
       "      <th>Vites</th>\n",
       "      <th>Kilometre</th>\n",
       "    </tr>\n",
       "  </thead>\n",
       "  <tbody>\n",
       "    <tr>\n",
       "      <th>0</th>\n",
       "      <td>105.000 TL</td>\n",
       "      <td>Toyota</td>\n",
       "      <td>Corolla</td>\n",
       "      <td>1.4 D-4D Elegant</td>\n",
       "      <td>2009</td>\n",
       "      <td>Dizel</td>\n",
       "      <td>Düz</td>\n",
       "      <td>310.000 km</td>\n",
       "    </tr>\n",
       "    <tr>\n",
       "      <th>1</th>\n",
       "      <td>141.500 TL</td>\n",
       "      <td>Toyota</td>\n",
       "      <td>Corolla</td>\n",
       "      <td>1.4 D-4D Elegant</td>\n",
       "      <td>2011</td>\n",
       "      <td>Dizel</td>\n",
       "      <td>Yarı Otomatik</td>\n",
       "      <td>188.100 km</td>\n",
       "    </tr>\n",
       "    <tr>\n",
       "      <th>2</th>\n",
       "      <td>135.000 TL</td>\n",
       "      <td>Toyota</td>\n",
       "      <td>Corolla</td>\n",
       "      <td>1.4 D-4D Elegant</td>\n",
       "      <td>2011</td>\n",
       "      <td>Dizel</td>\n",
       "      <td>Yarı Otomatik</td>\n",
       "      <td>217.000 km</td>\n",
       "    </tr>\n",
       "    <tr>\n",
       "      <th>3</th>\n",
       "      <td>143.000 TL</td>\n",
       "      <td>Toyota</td>\n",
       "      <td>Corolla</td>\n",
       "      <td>1.4 D-4D Elegant</td>\n",
       "      <td>2010</td>\n",
       "      <td>Dizel</td>\n",
       "      <td>Düz</td>\n",
       "      <td>97.000 km</td>\n",
       "    </tr>\n",
       "    <tr>\n",
       "      <th>4</th>\n",
       "      <td>113.000 TL</td>\n",
       "      <td>Toyota</td>\n",
       "      <td>Corolla</td>\n",
       "      <td>1.4 D-4D Elegant</td>\n",
       "      <td>2009</td>\n",
       "      <td>Dizel</td>\n",
       "      <td>Düz</td>\n",
       "      <td>275.000 km</td>\n",
       "    </tr>\n",
       "    <tr>\n",
       "      <th>...</th>\n",
       "      <td>...</td>\n",
       "      <td>...</td>\n",
       "      <td>...</td>\n",
       "      <td>...</td>\n",
       "      <td>...</td>\n",
       "      <td>...</td>\n",
       "      <td>...</td>\n",
       "      <td>...</td>\n",
       "    </tr>\n",
       "    <tr>\n",
       "      <th>1504</th>\n",
       "      <td>79.500 TL</td>\n",
       "      <td>Opel</td>\n",
       "      <td>Corsa</td>\n",
       "      <td>1.4 Enjoy</td>\n",
       "      <td>2004</td>\n",
       "      <td>LPG &amp; Benzin</td>\n",
       "      <td>Yarı Otomatik</td>\n",
       "      <td>150.000 km</td>\n",
       "    </tr>\n",
       "    <tr>\n",
       "      <th>1505</th>\n",
       "      <td>90.000 TL</td>\n",
       "      <td>Opel</td>\n",
       "      <td>Corsa</td>\n",
       "      <td>1.4 Enjoy</td>\n",
       "      <td>2007</td>\n",
       "      <td>LPG &amp; Benzin</td>\n",
       "      <td>Otomatik</td>\n",
       "      <td>155.000 km</td>\n",
       "    </tr>\n",
       "    <tr>\n",
       "      <th>1506</th>\n",
       "      <td>172.900 TL</td>\n",
       "      <td>Opel</td>\n",
       "      <td>Corsa</td>\n",
       "      <td>1.4 Enjoy</td>\n",
       "      <td>2019</td>\n",
       "      <td>Benzin</td>\n",
       "      <td>Otomatik</td>\n",
       "      <td>46.000 km</td>\n",
       "    </tr>\n",
       "    <tr>\n",
       "      <th>1507</th>\n",
       "      <td>142.500 TL</td>\n",
       "      <td>Opel</td>\n",
       "      <td>Corsa</td>\n",
       "      <td>1.4 Enjoy</td>\n",
       "      <td>2015</td>\n",
       "      <td>Benzin</td>\n",
       "      <td>Düz</td>\n",
       "      <td>70.500 km</td>\n",
       "    </tr>\n",
       "    <tr>\n",
       "      <th>1508</th>\n",
       "      <td>117.000 TL</td>\n",
       "      <td>Opel</td>\n",
       "      <td>Corsa</td>\n",
       "      <td>1.4 Enjoy</td>\n",
       "      <td>2009</td>\n",
       "      <td>LPG &amp; Benzin</td>\n",
       "      <td>Otomatik</td>\n",
       "      <td>133.200 km</td>\n",
       "    </tr>\n",
       "  </tbody>\n",
       "</table>\n",
       "<p>1509 rows × 8 columns</p>\n",
       "</div>"
      ],
      "text/plain": [
       "             Fiyat       Marka         Seri                 Model   Yıl  \\\n",
       "0      105.000 TL    Toyota      Corolla      1.4 D-4D Elegant     2009   \n",
       "1      141.500 TL    Toyota      Corolla      1.4 D-4D Elegant     2011   \n",
       "2      135.000 TL    Toyota      Corolla      1.4 D-4D Elegant     2011   \n",
       "3      143.000 TL    Toyota      Corolla      1.4 D-4D Elegant     2010   \n",
       "4      113.000 TL    Toyota      Corolla      1.4 D-4D Elegant     2009   \n",
       "...            ...         ...          ...                   ...   ...   \n",
       "1504    79.500 TL      Opel        Corsa             1.4 Enjoy     2004   \n",
       "1505    90.000 TL      Opel        Corsa             1.4 Enjoy     2007   \n",
       "1506   172.900 TL      Opel        Corsa             1.4 Enjoy     2019   \n",
       "1507   142.500 TL      Opel        Corsa             1.4 Enjoy     2015   \n",
       "1508   117.000 TL      Opel        Corsa             1.4 Enjoy     2009   \n",
       "\n",
       "                 Yakıt              Vites       Kilometre  \n",
       "0             Dizel                Düz      310.000 km     \n",
       "1             Dizel      Yarı Otomatik      188.100 km     \n",
       "2             Dizel      Yarı Otomatik      217.000 km     \n",
       "3             Dizel                Düz       97.000 km     \n",
       "4             Dizel                Düz      275.000 km     \n",
       "...                ...                ...             ...  \n",
       "1504   LPG & Benzin      Yarı Otomatik      150.000 km     \n",
       "1505   LPG & Benzin           Otomatik      155.000 km     \n",
       "1506         Benzin           Otomatik       46.000 km     \n",
       "1507         Benzin                Düz       70.500 km     \n",
       "1508   LPG & Benzin           Otomatik      133.200 km     \n",
       "\n",
       "[1509 rows x 8 columns]"
      ]
     },
     "execution_count": 2,
     "metadata": {},
     "output_type": "execute_result"
    }
   ],
   "source": [
    "import seaborn as sns\n",
    "df = pd.read_excel(\"datasets.xlsx\")\n",
    "df"
   ]
  },
  {
   "cell_type": "code",
   "execution_count": null,
   "metadata": {},
   "outputs": [],
   "source": [
    "df[\"Kilometre\"] = df[\"Kilometre\"].str.replace(\"km\", \"\")\n",
    "df[\"Fiyat\"] = df[\"Fiyat\"].str.replace(\"TL\", \"\")\n",
    "df[\"Kilometre\"] = df[\"Kilometre\"].str.replace(\".\", \"\")\n",
    "df[\"Fiyat\"] = df[\"Fiyat\"].str.replace(\".\", \"\")\n",
    "df['Fiyat'] = df['Fiyat'].astype(float)\n",
    "df['Kilometre'] = df['Kilometre'].astype(float)"
   ]
  },
  {
   "cell_type": "code",
   "execution_count": 4,
   "metadata": {},
   "outputs": [
    {
     "data": {
      "text/html": [
       "<div>\n",
       "<style scoped>\n",
       "    .dataframe tbody tr th:only-of-type {\n",
       "        vertical-align: middle;\n",
       "    }\n",
       "\n",
       "    .dataframe tbody tr th {\n",
       "        vertical-align: top;\n",
       "    }\n",
       "\n",
       "    .dataframe thead th {\n",
       "        text-align: right;\n",
       "    }\n",
       "</style>\n",
       "<table border=\"1\" class=\"dataframe\">\n",
       "  <thead>\n",
       "    <tr style=\"text-align: right;\">\n",
       "      <th></th>\n",
       "      <th>Fiyat</th>\n",
       "      <th>Marka</th>\n",
       "      <th>Seri</th>\n",
       "      <th>Model</th>\n",
       "      <th>Yıl</th>\n",
       "      <th>Yakıt</th>\n",
       "      <th>Vites</th>\n",
       "      <th>Kilometre</th>\n",
       "    </tr>\n",
       "  </thead>\n",
       "  <tbody>\n",
       "    <tr>\n",
       "      <th>0</th>\n",
       "      <td>105000.0</td>\n",
       "      <td>Toyota</td>\n",
       "      <td>Corolla</td>\n",
       "      <td>1.4 D-4D Elegant</td>\n",
       "      <td>2009</td>\n",
       "      <td>Dizel</td>\n",
       "      <td>Düz</td>\n",
       "      <td>310000.0</td>\n",
       "    </tr>\n",
       "    <tr>\n",
       "      <th>1</th>\n",
       "      <td>141500.0</td>\n",
       "      <td>Toyota</td>\n",
       "      <td>Corolla</td>\n",
       "      <td>1.4 D-4D Elegant</td>\n",
       "      <td>2011</td>\n",
       "      <td>Dizel</td>\n",
       "      <td>Yarı Otomatik</td>\n",
       "      <td>188100.0</td>\n",
       "    </tr>\n",
       "    <tr>\n",
       "      <th>2</th>\n",
       "      <td>135000.0</td>\n",
       "      <td>Toyota</td>\n",
       "      <td>Corolla</td>\n",
       "      <td>1.4 D-4D Elegant</td>\n",
       "      <td>2011</td>\n",
       "      <td>Dizel</td>\n",
       "      <td>Yarı Otomatik</td>\n",
       "      <td>217000.0</td>\n",
       "    </tr>\n",
       "    <tr>\n",
       "      <th>3</th>\n",
       "      <td>143000.0</td>\n",
       "      <td>Toyota</td>\n",
       "      <td>Corolla</td>\n",
       "      <td>1.4 D-4D Elegant</td>\n",
       "      <td>2010</td>\n",
       "      <td>Dizel</td>\n",
       "      <td>Düz</td>\n",
       "      <td>97000.0</td>\n",
       "    </tr>\n",
       "    <tr>\n",
       "      <th>4</th>\n",
       "      <td>113000.0</td>\n",
       "      <td>Toyota</td>\n",
       "      <td>Corolla</td>\n",
       "      <td>1.4 D-4D Elegant</td>\n",
       "      <td>2009</td>\n",
       "      <td>Dizel</td>\n",
       "      <td>Düz</td>\n",
       "      <td>275000.0</td>\n",
       "    </tr>\n",
       "    <tr>\n",
       "      <th>...</th>\n",
       "      <td>...</td>\n",
       "      <td>...</td>\n",
       "      <td>...</td>\n",
       "      <td>...</td>\n",
       "      <td>...</td>\n",
       "      <td>...</td>\n",
       "      <td>...</td>\n",
       "      <td>...</td>\n",
       "    </tr>\n",
       "    <tr>\n",
       "      <th>1504</th>\n",
       "      <td>79500.0</td>\n",
       "      <td>Opel</td>\n",
       "      <td>Corsa</td>\n",
       "      <td>1.4 Enjoy</td>\n",
       "      <td>2004</td>\n",
       "      <td>LPG &amp; Benzin</td>\n",
       "      <td>Yarı Otomatik</td>\n",
       "      <td>150000.0</td>\n",
       "    </tr>\n",
       "    <tr>\n",
       "      <th>1505</th>\n",
       "      <td>90000.0</td>\n",
       "      <td>Opel</td>\n",
       "      <td>Corsa</td>\n",
       "      <td>1.4 Enjoy</td>\n",
       "      <td>2007</td>\n",
       "      <td>LPG &amp; Benzin</td>\n",
       "      <td>Otomatik</td>\n",
       "      <td>155000.0</td>\n",
       "    </tr>\n",
       "    <tr>\n",
       "      <th>1506</th>\n",
       "      <td>172900.0</td>\n",
       "      <td>Opel</td>\n",
       "      <td>Corsa</td>\n",
       "      <td>1.4 Enjoy</td>\n",
       "      <td>2019</td>\n",
       "      <td>Benzin</td>\n",
       "      <td>Otomatik</td>\n",
       "      <td>46000.0</td>\n",
       "    </tr>\n",
       "    <tr>\n",
       "      <th>1507</th>\n",
       "      <td>142500.0</td>\n",
       "      <td>Opel</td>\n",
       "      <td>Corsa</td>\n",
       "      <td>1.4 Enjoy</td>\n",
       "      <td>2015</td>\n",
       "      <td>Benzin</td>\n",
       "      <td>Düz</td>\n",
       "      <td>70500.0</td>\n",
       "    </tr>\n",
       "    <tr>\n",
       "      <th>1508</th>\n",
       "      <td>117000.0</td>\n",
       "      <td>Opel</td>\n",
       "      <td>Corsa</td>\n",
       "      <td>1.4 Enjoy</td>\n",
       "      <td>2009</td>\n",
       "      <td>LPG &amp; Benzin</td>\n",
       "      <td>Otomatik</td>\n",
       "      <td>133200.0</td>\n",
       "    </tr>\n",
       "  </tbody>\n",
       "</table>\n",
       "<p>1509 rows × 8 columns</p>\n",
       "</div>"
      ],
      "text/plain": [
       "         Fiyat       Marka         Seri                 Model   Yıl  \\\n",
       "0     105000.0   Toyota      Corolla      1.4 D-4D Elegant     2009   \n",
       "1     141500.0   Toyota      Corolla      1.4 D-4D Elegant     2011   \n",
       "2     135000.0   Toyota      Corolla      1.4 D-4D Elegant     2011   \n",
       "3     143000.0   Toyota      Corolla      1.4 D-4D Elegant     2010   \n",
       "4     113000.0   Toyota      Corolla      1.4 D-4D Elegant     2009   \n",
       "...        ...         ...          ...                   ...   ...   \n",
       "1504   79500.0     Opel        Corsa             1.4 Enjoy     2004   \n",
       "1505   90000.0     Opel        Corsa             1.4 Enjoy     2007   \n",
       "1506  172900.0     Opel        Corsa             1.4 Enjoy     2019   \n",
       "1507  142500.0     Opel        Corsa             1.4 Enjoy     2015   \n",
       "1508  117000.0     Opel        Corsa             1.4 Enjoy     2009   \n",
       "\n",
       "                 Yakıt              Vites  Kilometre  \n",
       "0             Dizel                Düz      310000.0  \n",
       "1             Dizel      Yarı Otomatik      188100.0  \n",
       "2             Dizel      Yarı Otomatik      217000.0  \n",
       "3             Dizel                Düz       97000.0  \n",
       "4             Dizel                Düz      275000.0  \n",
       "...                ...                ...        ...  \n",
       "1504   LPG & Benzin      Yarı Otomatik      150000.0  \n",
       "1505   LPG & Benzin           Otomatik      155000.0  \n",
       "1506         Benzin           Otomatik       46000.0  \n",
       "1507         Benzin                Düz       70500.0  \n",
       "1508   LPG & Benzin           Otomatik      133200.0  \n",
       "\n",
       "[1509 rows x 8 columns]"
      ]
     },
     "execution_count": 4,
     "metadata": {},
     "output_type": "execute_result"
    }
   ],
   "source": [
    "df"
   ]
  },
  {
   "cell_type": "code",
   "execution_count": 5,
   "metadata": {},
   "outputs": [
    {
     "data": {
      "text/plain": [
       "(1509, 8)"
      ]
     },
     "execution_count": 5,
     "metadata": {},
     "output_type": "execute_result"
    }
   ],
   "source": [
    "df.shape"
   ]
  },
  {
   "cell_type": "code",
   "execution_count": 6,
   "metadata": {},
   "outputs": [
    {
     "data": {
      "text/plain": [
       "Fiyat        0\n",
       "Marka        0\n",
       "Seri         0\n",
       "Model        0\n",
       "Yıl          0\n",
       "Yakıt        0\n",
       "Vites        0\n",
       "Kilometre    0\n",
       "dtype: int64"
      ]
     },
     "execution_count": 6,
     "metadata": {},
     "output_type": "execute_result"
    }
   ],
   "source": [
    "df.isnull().sum()"
   ]
  },
  {
   "cell_type": "code",
   "execution_count": 21,
   "metadata": {},
   "outputs": [
    {
     "data": {
      "image/png": "[encoded data removed]",
      "text/plain": [
       "<Figure size 432x288 with 1 Axes>"
      ]
     },
     "metadata": {
      "needs_background": "light"
     },
     "output_type": "display_data"
    }
   ],
   "source": [
    "df[\"Marka\"].value_counts().plot.barh();"
   ]
  },
  {
   "cell_type": "code",
   "execution_count": 7,
   "metadata": {},
   "outputs": [
    {
     "data": {
      "image/png": "[encoded data removed]",
      "text/plain": [
       "<Figure size 432x288 with 1 Axes>"
      ]
     },
     "metadata": {
      "needs_background": "light"
     },
     "output_type": "display_data"
    }
   ],
   "source": [
    "df[\"Yıl\"].value_counts().plot.barh();"
   ]
  },
  {
   "cell_type": "code",
   "execution_count": 8,
   "metadata": {},
   "outputs": [
    {
     "name": "stderr",
     "output_type": "stream",
     "text": [
      "C:\\Anaconda3\\lib\\site-packages\\scipy\\stats\\stats.py:1713: FutureWarning: Using a non-tuple sequence for multidimensional indexing is deprecated; use `arr[tuple(seq)]` instead of `arr[seq]`. In the future this will be interpreted as an array index, `arr[np.array(seq)]`, which will result either in an error or a different result.\n",
      "  return np.add.reduce(sorted[indexer] * weights, axis=axis) / sumval\n"
     ]
    },
    {
     "data": {
      "image/png": "[encoded data removed]",
      "text/plain": [
       "<Figure size 432x288 with 1 Axes>"
      ]
     },
     "metadata": {
      "needs_background": "light"
     },
     "output_type": "display_data"
    }
   ],
   "source": [
    "sns.distplot(df.Fiyat, kde = False);"
   ]
  },
  {
   "cell_type": "code",
   "execution_count": 12,
   "metadata": {},
   "outputs": [
    {
     "data": {
      "image/png": "[encoded data removed]",
      "text/plain": [
       "<Figure size 432x288 with 1 Axes>"
      ]
     },
     "metadata": {
      "needs_background": "light"
     },
     "output_type": "display_data"
    }
   ],
   "source": [
    "sns.distplot(df.Fiyat);"
   ]
  },
  {
   "cell_type": "code",
   "execution_count": 9,
   "metadata": {},
   "outputs": [
    {
     "data": {
      "image/png": "[encoded data removed]",
      "text/plain": [
       "<Figure size 432x288 with 1 Axes>"
      ]
     },
     "metadata": {
      "needs_background": "light"
     },
     "output_type": "display_data"
    }
   ],
   "source": [
    "sns.distplot(df.Yıl, kde = False);"
   ]
  },
  {
   "cell_type": "code",
   "execution_count": 22,
   "metadata": {},
   "outputs": [
    {
     "data": {
      "image/png": "[encoded data removed]",
      "text/plain": [
       "<Figure size 432x288 with 1 Axes>"
      ]
     },
     "metadata": {
      "needs_background": "light"
     },
     "output_type": "display_data"
    }
   ],
   "source": [
    "df[\"Yakıt\"].value_counts().plot.barh();"
   ]
  },
  {
   "cell_type": "code",
   "execution_count": 23,
   "metadata": {},
   "outputs": [],
   "source": [
    "df_table = df[\"Fiyat\"]"
   ]
  },
  {
   "cell_type": "code",
   "execution_count": 24,
   "metadata": {},
   "outputs": [
    {
     "data": {
      "image/png": "[encoded data removed]",
      "text/plain": [
       "<Figure size 432x288 with 1 Axes>"
      ]
     },
     "metadata": {
      "needs_background": "light"
     },
     "output_type": "display_data"
    }
   ],
   "source": [
    "sns.boxplot(x = df_table);"
   ]
  },
  {
   "cell_type": "code",
   "execution_count": 25,
   "metadata": {},
   "outputs": [
    {
     "data": {
      "text/plain": [
       "0    105000.0\n",
       "1    141500.0\n",
       "2    135000.0\n",
       "3    143000.0\n",
       "4    113000.0\n",
       "Name: Fiyat, dtype: float64"
      ]
     },
     "execution_count": 25,
     "metadata": {},
     "output_type": "execute_result"
    }
   ],
   "source": [
    "df_table.head()"
   ]
  },
  {
   "cell_type": "code",
   "execution_count": 26,
   "metadata": {},
   "outputs": [],
   "source": [
    "Q1 = df_table.quantile(0.25)\n",
    "Q3 = df_table.quantile(0.75)\n",
    "IQR = Q3-Q1"
   ]
  },
  {
   "cell_type": "code",
   "execution_count": 27,
   "metadata": {},
   "outputs": [
    {
     "data": {
      "text/plain": [
       "67500.0"
      ]
     },
     "execution_count": 27,
     "metadata": {},
     "output_type": "execute_result"
    }
   ],
   "source": [
    "Q1"
   ]
  },
  {
   "cell_type": "code",
   "execution_count": 28,
   "metadata": {},
   "outputs": [
    {
     "data": {
      "text/plain": [
       "131000.0"
      ]
     },
     "execution_count": 28,
     "metadata": {},
     "output_type": "execute_result"
    }
   ],
   "source": [
    "Q3"
   ]
  },
  {
   "cell_type": "code",
   "execution_count": 29,
   "metadata": {},
   "outputs": [
    {
     "data": {
      "text/plain": [
       "63500.0"
      ]
     },
     "execution_count": 29,
     "metadata": {},
     "output_type": "execute_result"
    }
   ],
   "source": [
    "IQR"
   ]
  },
  {
   "cell_type": "code",
   "execution_count": 30,
   "metadata": {},
   "outputs": [],
   "source": [
    "alt_sinir = Q1- 1.5*IQR\n",
    "ust_sinir = Q3 + 1.5*IQR"
   ]
  },
  {
   "cell_type": "code",
   "execution_count": 31,
   "metadata": {},
   "outputs": [],
   "source": [
    "aykiri_tf= (df_table < alt_sinir) | (df_table > ust_sinir)"
   ]
  },
  {
   "cell_type": "code",
   "execution_count": 32,
   "metadata": {},
   "outputs": [
    {
     "data": {
      "text/plain": [
       "0    False\n",
       "1    False\n",
       "2    False\n",
       "3    False\n",
       "4    False\n",
       "Name: Fiyat, dtype: bool"
      ]
     },
     "execution_count": 32,
     "metadata": {},
     "output_type": "execute_result"
    }
   ],
   "source": [
    "aykiri_tf.head()"
   ]
  },
  {
   "cell_type": "code",
   "execution_count": 33,
   "metadata": {},
   "outputs": [
    {
     "data": {
      "text/plain": [
       "Int64Index([652, 653, 663], dtype='int64')"
      ]
     },
     "execution_count": 33,
     "metadata": {},
     "output_type": "execute_result"
    }
   ],
   "source": [
    "df_table[aykiri_tf].index"
   ]
  },
  {
   "cell_type": "code",
   "execution_count": 34,
   "metadata": {},
   "outputs": [],
   "source": [
    "for i in df_table[aykiri_tf].index:\n",
    "    df.drop(i,inplace=True)"
   ]
  },
  {
   "cell_type": "code",
   "execution_count": 35,
   "metadata": {},
   "outputs": [
    {
     "data": {
      "text/plain": [
       "(1506, 8)"
      ]
     },
     "execution_count": 35,
     "metadata": {},
     "output_type": "execute_result"
    }
   ],
   "source": [
    "df.shape"
   ]
  },
  {
   "cell_type": "code",
   "execution_count": 36,
   "metadata": {},
   "outputs": [
    {
     "data": {
      "text/plain": [
       "(1509, 1)"
      ]
     },
     "execution_count": 36,
     "metadata": {},
     "output_type": "execute_result"
    }
   ],
   "source": [
    "df_table = pd.DataFrame(df_table)\n",
    "df_table.shape"
   ]
  },
  {
   "cell_type": "code",
   "execution_count": 89,
   "metadata": {},
   "outputs": [],
   "source": [
    "t_df = df_table[~((df_table < (alt_sinir)) | (df_table > (ust_sinir))).any(axis = 1)]"
   ]
  },
  {
   "cell_type": "code",
   "execution_count": 90,
   "metadata": {},
   "outputs": [
    {
     "data": {
      "text/plain": [
       "(1506, 1)"
      ]
     },
     "execution_count": 90,
     "metadata": {},
     "output_type": "execute_result"
    }
   ],
   "source": [
    "t_df.shape"
   ]
  },
  {
   "cell_type": "code",
   "execution_count": 38,
   "metadata": {},
   "outputs": [
    {
     "data": {
      "image/png": "[encoded data removed]",
      "text/plain": [
       "<Figure size 432x288 with 1 Axes>"
      ]
     },
     "metadata": {
      "needs_background": "light"
     },
     "output_type": "display_data"
    }
   ],
   "source": [
    "df_table = df[\"Kilometre\"]\n",
    "sns.boxplot(x = df_table);"
   ]
  },
  {
   "cell_type": "code",
   "execution_count": 39,
   "metadata": {},
   "outputs": [],
   "source": [
    "Q1 = df_table.quantile(0.25)\n",
    "Q3 = df_table.quantile(0.75)\n",
    "IQR = Q3-Q1"
   ]
  },
  {
   "cell_type": "code",
   "execution_count": 40,
   "metadata": {},
   "outputs": [],
   "source": [
    "alt_sinir = Q1- 1.5*IQR\n",
    "ust_sinir = Q3 + 1.5*IQR"
   ]
  },
  {
   "cell_type": "code",
   "execution_count": 41,
   "metadata": {},
   "outputs": [],
   "source": [
    "aykiri_tf= (df_table < alt_sinir) | (df_table > ust_sinir)"
   ]
  },
  {
   "cell_type": "code",
   "execution_count": 42,
   "metadata": {},
   "outputs": [
    {
     "data": {
      "text/plain": [
       "Int64Index([225, 248, 361, 799, 858, 1079, 1365], dtype='int64')"
      ]
     },
     "execution_count": 42,
     "metadata": {},
     "output_type": "execute_result"
    }
   ],
   "source": [
    "df_table[aykiri_tf].index"
   ]
  },
  {
   "cell_type": "code",
   "execution_count": 43,
   "metadata": {},
   "outputs": [],
   "source": [
    "for i in df_table[aykiri_tf].index:\n",
    "    df.drop(i,inplace=True)"
   ]
  },
  {
   "cell_type": "code",
   "execution_count": 44,
   "metadata": {},
   "outputs": [
    {
     "data": {
      "text/plain": [
       "(1499, 8)"
      ]
     },
     "execution_count": 44,
     "metadata": {},
     "output_type": "execute_result"
    }
   ],
   "source": [
    "df.shape"
   ]
  },
  {
   "cell_type": "code",
   "execution_count": 71,
   "metadata": {},
   "outputs": [
    {
     "data": {
      "text/plain": [
       "Int64Index([0, 72, 84, 123, 137, 149], dtype='int64')"
      ]
     },
     "execution_count": 71,
     "metadata": {},
     "output_type": "execute_result"
    }
   ],
   "source": [
    "a = df[\"Kilometre\"]\n",
    "b = df[\"Fiyat\"]\n",
    "aykiri_tf= (b >100000) & (a > 300000)\n",
    "df[aykiri_tf].index"
   ]
  },
  {
   "cell_type": "code",
   "execution_count": 73,
   "metadata": {},
   "outputs": [],
   "source": [
    "for i in df[aykiri_tf].index:\n",
    "    df.drop(i,inplace=True)"
   ]
  },
  {
   "cell_type": "code",
   "execution_count": 74,
   "metadata": {},
   "outputs": [
    {
     "data": {
      "text/plain": [
       "Int64Index([1364, 1366, 1370, 1393, 1405], dtype='int64')"
      ]
     },
     "execution_count": 74,
     "metadata": {},
     "output_type": "execute_result"
    }
   ],
   "source": [
    "a = df[\"Yıl\"]\n",
    "b = df[\"Fiyat\"]\n",
    "aykiri_tf= (b >70000) & (a < 2000)\n",
    "df[aykiri_tf].index"
   ]
  },
  {
   "cell_type": "code",
   "execution_count": 75,
   "metadata": {},
   "outputs": [],
   "source": [
    "for i in df[aykiri_tf].index:\n",
    "    df.drop(i,inplace=True)"
   ]
  },
  {
   "cell_type": "code",
   "execution_count": 77,
   "metadata": {},
   "outputs": [
    {
     "data": {
      "text/html": [
       "<div>\n",
       "<style scoped>\n",
       "    .dataframe tbody tr th:only-of-type {\n",
       "        vertical-align: middle;\n",
       "    }\n",
       "\n",
       "    .dataframe tbody tr th {\n",
       "        vertical-align: top;\n",
       "    }\n",
       "\n",
       "    .dataframe thead th {\n",
       "        text-align: right;\n",
       "    }\n",
       "</style>\n",
       "<table border=\"1\" class=\"dataframe\">\n",
       "  <thead>\n",
       "    <tr style=\"text-align: right;\">\n",
       "      <th></th>\n",
       "      <th>Fiyat</th>\n",
       "      <th>Marka</th>\n",
       "      <th>Seri</th>\n",
       "      <th>Model</th>\n",
       "      <th>Yıl</th>\n",
       "      <th>Yakıt</th>\n",
       "      <th>Vites</th>\n",
       "      <th>Kilometre</th>\n",
       "    </tr>\n",
       "  </thead>\n",
       "  <tbody>\n",
       "    <tr>\n",
       "      <th>1</th>\n",
       "      <td>141500.0</td>\n",
       "      <td>Toyota</td>\n",
       "      <td>Corolla</td>\n",
       "      <td>1.4 D-4D Elegant</td>\n",
       "      <td>2011</td>\n",
       "      <td>Dizel</td>\n",
       "      <td>Yarı Otomatik</td>\n",
       "      <td>188100.0</td>\n",
       "    </tr>\n",
       "    <tr>\n",
       "      <th>2</th>\n",
       "      <td>135000.0</td>\n",
       "      <td>Toyota</td>\n",
       "      <td>Corolla</td>\n",
       "      <td>1.4 D-4D Elegant</td>\n",
       "      <td>2011</td>\n",
       "      <td>Dizel</td>\n",
       "      <td>Yarı Otomatik</td>\n",
       "      <td>217000.0</td>\n",
       "    </tr>\n",
       "    <tr>\n",
       "      <th>3</th>\n",
       "      <td>143000.0</td>\n",
       "      <td>Toyota</td>\n",
       "      <td>Corolla</td>\n",
       "      <td>1.4 D-4D Elegant</td>\n",
       "      <td>2010</td>\n",
       "      <td>Dizel</td>\n",
       "      <td>Düz</td>\n",
       "      <td>97000.0</td>\n",
       "    </tr>\n",
       "    <tr>\n",
       "      <th>4</th>\n",
       "      <td>113000.0</td>\n",
       "      <td>Toyota</td>\n",
       "      <td>Corolla</td>\n",
       "      <td>1.4 D-4D Elegant</td>\n",
       "      <td>2009</td>\n",
       "      <td>Dizel</td>\n",
       "      <td>Düz</td>\n",
       "      <td>275000.0</td>\n",
       "    </tr>\n",
       "    <tr>\n",
       "      <th>5</th>\n",
       "      <td>107900.0</td>\n",
       "      <td>Toyota</td>\n",
       "      <td>Corolla</td>\n",
       "      <td>1.4 D-4D Elegant</td>\n",
       "      <td>2008</td>\n",
       "      <td>Dizel</td>\n",
       "      <td>Düz</td>\n",
       "      <td>217000.0</td>\n",
       "    </tr>\n",
       "    <tr>\n",
       "      <th>...</th>\n",
       "      <td>...</td>\n",
       "      <td>...</td>\n",
       "      <td>...</td>\n",
       "      <td>...</td>\n",
       "      <td>...</td>\n",
       "      <td>...</td>\n",
       "      <td>...</td>\n",
       "      <td>...</td>\n",
       "    </tr>\n",
       "    <tr>\n",
       "      <th>1504</th>\n",
       "      <td>79500.0</td>\n",
       "      <td>Opel</td>\n",
       "      <td>Corsa</td>\n",
       "      <td>1.4 Enjoy</td>\n",
       "      <td>2004</td>\n",
       "      <td>LPG &amp; Benzin</td>\n",
       "      <td>Yarı Otomatik</td>\n",
       "      <td>150000.0</td>\n",
       "    </tr>\n",
       "    <tr>\n",
       "      <th>1505</th>\n",
       "      <td>90000.0</td>\n",
       "      <td>Opel</td>\n",
       "      <td>Corsa</td>\n",
       "      <td>1.4 Enjoy</td>\n",
       "      <td>2007</td>\n",
       "      <td>LPG &amp; Benzin</td>\n",
       "      <td>Otomatik</td>\n",
       "      <td>155000.0</td>\n",
       "    </tr>\n",
       "    <tr>\n",
       "      <th>1506</th>\n",
       "      <td>172900.0</td>\n",
       "      <td>Opel</td>\n",
       "      <td>Corsa</td>\n",
       "      <td>1.4 Enjoy</td>\n",
       "      <td>2019</td>\n",
       "      <td>Benzin</td>\n",
       "      <td>Otomatik</td>\n",
       "      <td>46000.0</td>\n",
       "    </tr>\n",
       "    <tr>\n",
       "      <th>1507</th>\n",
       "      <td>142500.0</td>\n",
       "      <td>Opel</td>\n",
       "      <td>Corsa</td>\n",
       "      <td>1.4 Enjoy</td>\n",
       "      <td>2015</td>\n",
       "      <td>Benzin</td>\n",
       "      <td>Düz</td>\n",
       "      <td>70500.0</td>\n",
       "    </tr>\n",
       "    <tr>\n",
       "      <th>1508</th>\n",
       "      <td>117000.0</td>\n",
       "      <td>Opel</td>\n",
       "      <td>Corsa</td>\n",
       "      <td>1.4 Enjoy</td>\n",
       "      <td>2009</td>\n",
       "      <td>LPG &amp; Benzin</td>\n",
       "      <td>Otomatik</td>\n",
       "      <td>133200.0</td>\n",
       "    </tr>\n",
       "  </tbody>\n",
       "</table>\n",
       "<p>1488 rows × 8 columns</p>\n",
       "</div>"
      ],
      "text/plain": [
       "         Fiyat       Marka         Seri                 Model   Yıl  \\\n",
       "1     141500.0   Toyota      Corolla      1.4 D-4D Elegant     2011   \n",
       "2     135000.0   Toyota      Corolla      1.4 D-4D Elegant     2011   \n",
       "3     143000.0   Toyota      Corolla      1.4 D-4D Elegant     2010   \n",
       "4     113000.0   Toyota      Corolla      1.4 D-4D Elegant     2009   \n",
       "5     107900.0   Toyota      Corolla      1.4 D-4D Elegant     2008   \n",
       "...        ...         ...          ...                   ...   ...   \n",
       "1504   79500.0     Opel        Corsa             1.4 Enjoy     2004   \n",
       "1505   90000.0     Opel        Corsa             1.4 Enjoy     2007   \n",
       "1506  172900.0     Opel        Corsa             1.4 Enjoy     2019   \n",
       "1507  142500.0     Opel        Corsa             1.4 Enjoy     2015   \n",
       "1508  117000.0     Opel        Corsa             1.4 Enjoy     2009   \n",
       "\n",
       "                 Yakıt              Vites  Kilometre  \n",
       "1             Dizel      Yarı Otomatik      188100.0  \n",
       "2             Dizel      Yarı Otomatik      217000.0  \n",
       "3             Dizel                Düz       97000.0  \n",
       "4             Dizel                Düz      275000.0  \n",
       "5             Dizel                Düz      217000.0  \n",
       "...                ...                ...        ...  \n",
       "1504   LPG & Benzin      Yarı Otomatik      150000.0  \n",
       "1505   LPG & Benzin           Otomatik      155000.0  \n",
       "1506         Benzin           Otomatik       46000.0  \n",
       "1507         Benzin                Düz       70500.0  \n",
       "1508   LPG & Benzin           Otomatik      133200.0  \n",
       "\n",
       "[1488 rows x 8 columns]"
      ]
     },
     "execution_count": 77,
     "metadata": {},
     "output_type": "execute_result"
    }
   ],
   "source": [
    "df.shape\n",
    "df"
   ]
  },
  {
   "cell_type": "code",
   "execution_count": 78,
   "metadata": {},
   "outputs": [
    {
     "data": {
      "text/html": [
       "<div>\n",
       "<style scoped>\n",
       "    .dataframe tbody tr th:only-of-type {\n",
       "        vertical-align: middle;\n",
       "    }\n",
       "\n",
       "    .dataframe tbody tr th {\n",
       "        vertical-align: top;\n",
       "    }\n",
       "\n",
       "    .dataframe thead th {\n",
       "        text-align: right;\n",
       "    }\n",
       "</style>\n",
       "<table border=\"1\" class=\"dataframe\">\n",
       "  <thead>\n",
       "    <tr style=\"text-align: right;\">\n",
       "      <th></th>\n",
       "      <th>index</th>\n",
       "      <th>Fiyat</th>\n",
       "      <th>Marka</th>\n",
       "      <th>Seri</th>\n",
       "      <th>Model</th>\n",
       "      <th>Yıl</th>\n",
       "      <th>Yakıt</th>\n",
       "      <th>Vites</th>\n",
       "      <th>Kilometre</th>\n",
       "    </tr>\n",
       "  </thead>\n",
       "  <tbody>\n",
       "    <tr>\n",
       "      <th>0</th>\n",
       "      <td>1</td>\n",
       "      <td>141500.0</td>\n",
       "      <td>Toyota</td>\n",
       "      <td>Corolla</td>\n",
       "      <td>1.4 D-4D Elegant</td>\n",
       "      <td>2011</td>\n",
       "      <td>Dizel</td>\n",
       "      <td>Yarı Otomatik</td>\n",
       "      <td>188100.0</td>\n",
       "    </tr>\n",
       "    <tr>\n",
       "      <th>1</th>\n",
       "      <td>2</td>\n",
       "      <td>135000.0</td>\n",
       "      <td>Toyota</td>\n",
       "      <td>Corolla</td>\n",
       "      <td>1.4 D-4D Elegant</td>\n",
       "      <td>2011</td>\n",
       "      <td>Dizel</td>\n",
       "      <td>Yarı Otomatik</td>\n",
       "      <td>217000.0</td>\n",
       "    </tr>\n",
       "    <tr>\n",
       "      <th>2</th>\n",
       "      <td>3</td>\n",
       "      <td>143000.0</td>\n",
       "      <td>Toyota</td>\n",
       "      <td>Corolla</td>\n",
       "      <td>1.4 D-4D Elegant</td>\n",
       "      <td>2010</td>\n",
       "      <td>Dizel</td>\n",
       "      <td>Düz</td>\n",
       "      <td>97000.0</td>\n",
       "    </tr>\n",
       "    <tr>\n",
       "      <th>3</th>\n",
       "      <td>4</td>\n",
       "      <td>113000.0</td>\n",
       "      <td>Toyota</td>\n",
       "      <td>Corolla</td>\n",
       "      <td>1.4 D-4D Elegant</td>\n",
       "      <td>2009</td>\n",
       "      <td>Dizel</td>\n",
       "      <td>Düz</td>\n",
       "      <td>275000.0</td>\n",
       "    </tr>\n",
       "    <tr>\n",
       "      <th>4</th>\n",
       "      <td>5</td>\n",
       "      <td>107900.0</td>\n",
       "      <td>Toyota</td>\n",
       "      <td>Corolla</td>\n",
       "      <td>1.4 D-4D Elegant</td>\n",
       "      <td>2008</td>\n",
       "      <td>Dizel</td>\n",
       "      <td>Düz</td>\n",
       "      <td>217000.0</td>\n",
       "    </tr>\n",
       "    <tr>\n",
       "      <th>...</th>\n",
       "      <td>...</td>\n",
       "      <td>...</td>\n",
       "      <td>...</td>\n",
       "      <td>...</td>\n",
       "      <td>...</td>\n",
       "      <td>...</td>\n",
       "      <td>...</td>\n",
       "      <td>...</td>\n",
       "      <td>...</td>\n",
       "    </tr>\n",
       "    <tr>\n",
       "      <th>1483</th>\n",
       "      <td>1504</td>\n",
       "      <td>79500.0</td>\n",
       "      <td>Opel</td>\n",
       "      <td>Corsa</td>\n",
       "      <td>1.4 Enjoy</td>\n",
       "      <td>2004</td>\n",
       "      <td>LPG &amp; Benzin</td>\n",
       "      <td>Yarı Otomatik</td>\n",
       "      <td>150000.0</td>\n",
       "    </tr>\n",
       "    <tr>\n",
       "      <th>1484</th>\n",
       "      <td>1505</td>\n",
       "      <td>90000.0</td>\n",
       "      <td>Opel</td>\n",
       "      <td>Corsa</td>\n",
       "      <td>1.4 Enjoy</td>\n",
       "      <td>2007</td>\n",
       "      <td>LPG &amp; Benzin</td>\n",
       "      <td>Otomatik</td>\n",
       "      <td>155000.0</td>\n",
       "    </tr>\n",
       "    <tr>\n",
       "      <th>1485</th>\n",
       "      <td>1506</td>\n",
       "      <td>172900.0</td>\n",
       "      <td>Opel</td>\n",
       "      <td>Corsa</td>\n",
       "      <td>1.4 Enjoy</td>\n",
       "      <td>2019</td>\n",
       "      <td>Benzin</td>\n",
       "      <td>Otomatik</td>\n",
       "      <td>46000.0</td>\n",
       "    </tr>\n",
       "    <tr>\n",
       "      <th>1486</th>\n",
       "      <td>1507</td>\n",
       "      <td>142500.0</td>\n",
       "      <td>Opel</td>\n",
       "      <td>Corsa</td>\n",
       "      <td>1.4 Enjoy</td>\n",
       "      <td>2015</td>\n",
       "      <td>Benzin</td>\n",
       "      <td>Düz</td>\n",
       "      <td>70500.0</td>\n",
       "    </tr>\n",
       "    <tr>\n",
       "      <th>1487</th>\n",
       "      <td>1508</td>\n",
       "      <td>117000.0</td>\n",
       "      <td>Opel</td>\n",
       "      <td>Corsa</td>\n",
       "      <td>1.4 Enjoy</td>\n",
       "      <td>2009</td>\n",
       "      <td>LPG &amp; Benzin</td>\n",
       "      <td>Otomatik</td>\n",
       "      <td>133200.0</td>\n",
       "    </tr>\n",
       "  </tbody>\n",
       "</table>\n",
       "<p>1488 rows × 9 columns</p>\n",
       "</div>"
      ],
      "text/plain": [
       "      index     Fiyat       Marka         Seri                 Model   Yıl  \\\n",
       "0         1  141500.0   Toyota      Corolla      1.4 D-4D Elegant     2011   \n",
       "1         2  135000.0   Toyota      Corolla      1.4 D-4D Elegant     2011   \n",
       "2         3  143000.0   Toyota      Corolla      1.4 D-4D Elegant     2010   \n",
       "3         4  113000.0   Toyota      Corolla      1.4 D-4D Elegant     2009   \n",
       "4         5  107900.0   Toyota      Corolla      1.4 D-4D Elegant     2008   \n",
       "...     ...       ...         ...          ...                   ...   ...   \n",
       "1483   1504   79500.0     Opel        Corsa             1.4 Enjoy     2004   \n",
       "1484   1505   90000.0     Opel        Corsa             1.4 Enjoy     2007   \n",
       "1485   1506  172900.0     Opel        Corsa             1.4 Enjoy     2019   \n",
       "1486   1507  142500.0     Opel        Corsa             1.4 Enjoy     2015   \n",
       "1487   1508  117000.0     Opel        Corsa             1.4 Enjoy     2009   \n",
       "\n",
       "                 Yakıt              Vites  Kilometre  \n",
       "0             Dizel      Yarı Otomatik      188100.0  \n",
       "1             Dizel      Yarı Otomatik      217000.0  \n",
       "2             Dizel                Düz       97000.0  \n",
       "3             Dizel                Düz      275000.0  \n",
       "4             Dizel                Düz      217000.0  \n",
       "...                ...                ...        ...  \n",
       "1483   LPG & Benzin      Yarı Otomatik      150000.0  \n",
       "1484   LPG & Benzin           Otomatik      155000.0  \n",
       "1485         Benzin           Otomatik       46000.0  \n",
       "1486         Benzin                Düz       70500.0  \n",
       "1487   LPG & Benzin           Otomatik      133200.0  \n",
       "\n",
       "[1488 rows x 9 columns]"
      ]
     },
     "execution_count": 78,
     "metadata": {},
     "output_type": "execute_result"
    }
   ],
   "source": [
    "df.reset_index()\n"
   ]
  },
  {
   "cell_type": "code",
   "execution_count": null,
   "metadata": {},
   "outputs": [],
   "source": [
    "sns.pairplot(df, kind  =\"reg\");"
   ]
  },
  {
   "cell_type": "code",
   "execution_count": 80,
   "metadata": {},
   "outputs": [
    {
     "data": {
      "text/plain": [
       "<seaborn.axisgrid.JointGrid at 0x276def36748>"
      ]
     },
     "execution_count": 80,
     "metadata": {},
     "output_type": "execute_result"
    },
    {
     "data": {
      "image/png": "[encoded data removed]",
      "text/plain": [
       "<Figure size 432x432 with 3 Axes>"
      ]
     },
     "metadata": {
      "needs_background": "light"
     },
     "output_type": "display_data"
    }
   ],
   "source": [
    "sns.jointplot(x = \"Fiyat\", y = \"Yıl\", data = df, kind = \"reg\")"
   ]
  },
  {
   "cell_type": "code",
   "execution_count": 81,
   "metadata": {},
   "outputs": [
    {
     "data": {
      "text/plain": [
       "<seaborn.axisgrid.JointGrid at 0x276df2abb70>"
      ]
     },
     "execution_count": 81,
     "metadata": {},
     "output_type": "execute_result"
    },
    {
     "data": {
      "image/png": "[encoded data removed]",
      "text/plain": [
       "<Figure size 432x432 with 3 Axes>"
      ]
     },
     "metadata": {
      "needs_background": "light"
     },
     "output_type": "display_data"
    }
   ],
   "source": [
    "sns.jointplot(x = \"Fiyat\", y = \"Kilometre\", data = df, kind = \"reg\")"
   ]
  },
  {
   "cell_type": "code",
   "execution_count": 82,
   "metadata": {},
   "outputs": [],
   "source": [
    "from sklearn import preprocessing \n",
    "le = preprocessing.LabelEncoder()\n"
   ]
  },
  {
   "cell_type": "code",
   "execution_count": 83,
   "metadata": {},
   "outputs": [],
   "source": [
    "df[\"Marka\"] = le.fit_transform(df.Marka)"
   ]
  },
  {
   "cell_type": "code",
   "execution_count": 84,
   "metadata": {},
   "outputs": [
    {
     "data": {
      "text/plain": [
       "array([' Fiat   ', ' Ford   ', ' Honda   ', ' Hyundai   ', ' Opel   ',\n",
       "       ' Toyota   '], dtype=object)"
      ]
     },
     "execution_count": 84,
     "metadata": {},
     "output_type": "execute_result"
    }
   ],
   "source": [
    "le.classes_"
   ]
  },
  {
   "cell_type": "code",
   "execution_count": 85,
   "metadata": {},
   "outputs": [
    {
     "data": {
      "text/plain": [
       "array([5, 0, 1, 2, 3, 4])"
      ]
     },
     "execution_count": 85,
     "metadata": {},
     "output_type": "execute_result"
    }
   ],
   "source": [
    "df.Marka.unique()"
   ]
  },
  {
   "cell_type": "code",
   "execution_count": 86,
   "metadata": {},
   "outputs": [],
   "source": [
    "df[\"Seri\"] = le.fit_transform(df.Seri)"
   ]
  },
  {
   "cell_type": "code",
   "execution_count": 87,
   "metadata": {},
   "outputs": [
    {
     "data": {
      "text/plain": [
       "array([' Accent   ', ' Astra   ', ' Civic   ', ' Corolla   ', ' Corsa   ',\n",
       "       ' Fiesta   ', ' Focus   ', ' Jazz   ', ' Linea   ', ' Palio   ',\n",
       "       ' i20   '], dtype=object)"
      ]
     },
     "execution_count": 87,
     "metadata": {},
     "output_type": "execute_result"
    }
   ],
   "source": [
    "le.classes_"
   ]
  },
  {
   "cell_type": "code",
   "execution_count": 88,
   "metadata": {},
   "outputs": [
    {
     "data": {
      "text/plain": [
       "array([ 3,  8,  9,  5,  6,  2,  7,  0, 10,  1,  4])"
      ]
     },
     "execution_count": 88,
     "metadata": {},
     "output_type": "execute_result"
    }
   ],
   "source": [
    "df.Seri.unique()"
   ]
  },
  {
   "cell_type": "code",
   "execution_count": 89,
   "metadata": {},
   "outputs": [],
   "source": [
    "df[\"Model\"] = le.fit_transform(df.Model)"
   ]
  },
  {
   "cell_type": "code",
   "execution_count": 90,
   "metadata": {},
   "outputs": [
    {
     "data": {
      "text/plain": [
       "array([' 1.2 EL   ', ' 1.2 MPI Style   ', ' 1.3 Admire   ',\n",
       "       ' 1.3 CDTI Cosmo   ', ' 1.3 CDTI Enjoy   ',\n",
       "       ' 1.3 Multijet Active Plus   ', ' 1.4 1.4i   ',\n",
       "       ' 1.4 CRDi Jump   ', ' 1.4 D-4D Comfort   ',\n",
       "       ' 1.4 D-4D Elegant   ', ' 1.4 EL   ', ' 1.4 Enjoy   ',\n",
       "       ' 1.4 Fire Pop   ', ' 1.4 Fun   ', ' 1.4 TDCi Comfort   ',\n",
       "       ' 1.5 GLS   ', ' 1.5 TDCi Trend   ', ' 1.5 TDCi Trend X   ',\n",
       "       ' 1.6 CD   ', ' 1.6 LS   ', ' 1.6 TDCi Trend X   '], dtype=object)"
      ]
     },
     "execution_count": 90,
     "metadata": {},
     "output_type": "execute_result"
    }
   ],
   "source": [
    "le.classes_"
   ]
  },
  {
   "cell_type": "code",
   "execution_count": 91,
   "metadata": {},
   "outputs": [
    {
     "data": {
      "text/plain": [
       "array([ 9,  8,  5, 12,  0, 14, 10, 16, 17, 20, 19,  6, 13,  2, 15,  7,  1,\n",
       "        3, 18,  4, 11])"
      ]
     },
     "execution_count": 91,
     "metadata": {},
     "output_type": "execute_result"
    }
   ],
   "source": [
    "df.Model.unique()"
   ]
  },
  {
   "cell_type": "code",
   "execution_count": 92,
   "metadata": {},
   "outputs": [],
   "source": [
    "df[\"Yakıt\"] = le.fit_transform(df.Yakıt)"
   ]
  },
  {
   "cell_type": "code",
   "execution_count": 93,
   "metadata": {},
   "outputs": [
    {
     "data": {
      "text/plain": [
       "array([' Benzin   ', ' Dizel   ', ' LPG & Benzin   '], dtype=object)"
      ]
     },
     "execution_count": 93,
     "metadata": {},
     "output_type": "execute_result"
    }
   ],
   "source": [
    "le.classes_"
   ]
  },
  {
   "cell_type": "code",
   "execution_count": 94,
   "metadata": {},
   "outputs": [
    {
     "data": {
      "text/plain": [
       "array([1, 2, 0])"
      ]
     },
     "execution_count": 94,
     "metadata": {},
     "output_type": "execute_result"
    }
   ],
   "source": [
    "df.Yakıt.unique()"
   ]
  },
  {
   "cell_type": "code",
   "execution_count": 95,
   "metadata": {},
   "outputs": [],
   "source": [
    "df[\"Vites\"] = le.fit_transform(df.Vites)"
   ]
  },
  {
   "cell_type": "code",
   "execution_count": 96,
   "metadata": {},
   "outputs": [
    {
     "data": {
      "text/plain": [
       "array([' Düz   ', ' Otomatik   ', ' Yarı Otomatik   '], dtype=object)"
      ]
     },
     "execution_count": 96,
     "metadata": {},
     "output_type": "execute_result"
    }
   ],
   "source": [
    "le.classes_"
   ]
  },
  {
   "cell_type": "code",
   "execution_count": 97,
   "metadata": {},
   "outputs": [
    {
     "data": {
      "text/plain": [
       "array([2, 0, 1])"
      ]
     },
     "execution_count": 97,
     "metadata": {},
     "output_type": "execute_result"
    }
   ],
   "source": [
    "df.Vites.unique()"
   ]
  },
  {
   "cell_type": "code",
   "execution_count": 98,
   "metadata": {},
   "outputs": [],
   "source": [
    "import pandas as pd\n",
    "import xgboost as xgb\n",
    "from xgboost import XGBRegressor\n",
    "from sklearn.model_selection import train_test_split, GridSearchCV,cross_val_score\n",
    "from sklearn.metrics import mean_squared_error, r2_score\n",
    "import numpy as np\n",
    "from sklearn import model_selection"
   ]
  },
  {
   "cell_type": "code",
   "execution_count": 99,
   "metadata": {},
   "outputs": [],
   "source": [
    "X = df.drop([\"Fiyat\"], axis = 1)\n",
    "y = df[\"Fiyat\"]"
   ]
  },
  {
   "cell_type": "code",
   "execution_count": 100,
   "metadata": {},
   "outputs": [],
   "source": [
    "X_train, X_test, y_train, y_test = train_test_split(X, y, test_size = 0.27, random_state = 42)"
   ]
  },
  {
   "cell_type": "code",
   "execution_count": 101,
   "metadata": {},
   "outputs": [],
   "source": [
    "params = {\"colsample_bytree\":[0.4,0.5,0.6],\n",
    "          \"gamma\":[0.1,0.2],\n",
    "         \"learning_rate\":[0.01,0.02,0.05],\n",
    "         \"max_depth\":[2,3,4,5],\n",
    "         \"n_estimators\":[100,200,500,1000]}"
   ]
  },
  {
   "cell_type": "code",
   "execution_count": 102,
   "metadata": {},
   "outputs": [],
   "source": [
    "xgb = XGBRegressor()"
   ]
  },
  {
   "cell_type": "code",
   "execution_count": 103,
   "metadata": {},
   "outputs": [],
   "source": [
    "grid = GridSearchCV(xgb, params, cv =10, n_jobs = -1, verbose = 2)"
   ]
  },
  {
   "cell_type": "code",
   "execution_count": 104,
   "metadata": {},
   "outputs": [
    {
     "name": "stdout",
     "output_type": "stream",
     "text": [
      "Fitting 10 folds for each of 288 candidates, totalling 2880 fits\n"
     ]
    },
    {
     "name": "stderr",
     "output_type": "stream",
     "text": [
      "[Parallel(n_jobs=-1)]: Using backend LokyBackend with 8 concurrent workers.\n",
      "[Parallel(n_jobs=-1)]: Done  25 tasks      | elapsed:    7.8s\n",
      "[Parallel(n_jobs=-1)]: Done 146 tasks      | elapsed:   41.2s\n",
      "[Parallel(n_jobs=-1)]: Done 349 tasks      | elapsed:  1.7min\n",
      "[Parallel(n_jobs=-1)]: Done 632 tasks      | elapsed:  3.1min\n",
      "[Parallel(n_jobs=-1)]: Done 997 tasks      | elapsed:  4.8min\n",
      "[Parallel(n_jobs=-1)]: Done 1442 tasks      | elapsed:  7.1min\n",
      "[Parallel(n_jobs=-1)]: Done 1969 tasks      | elapsed:  9.7min\n",
      "[Parallel(n_jobs=-1)]: Done 2576 tasks      | elapsed: 12.9min\n",
      "[Parallel(n_jobs=-1)]: Done 2880 out of 2880 | elapsed: 14.5min finished\n"
     ]
    },
    {
     "data": {
      "text/plain": [
       "GridSearchCV(cv=10, error_score=nan,\n",
       "             estimator=XGBRegressor(base_score=None, booster=None,\n",
       "                                    colsample_bylevel=None,\n",
       "                                    colsample_bynode=None,\n",
       "                                    colsample_bytree=None, gamma=None,\n",
       "                                    gpu_id=None, importance_type='gain',\n",
       "                                    interaction_constraints=None,\n",
       "                                    learning_rate=None, max_delta_step=None,\n",
       "                                    max_depth=None, min_child_weight=None,\n",
       "                                    missing=nan, monotone_constraints=None,\n",
       "                                    n_estim...\n",
       "                                    reg_lambda=None, scale_pos_weight=None,\n",
       "                                    subsample=None, tree_method=None,\n",
       "                                    validate_parameters=None, verbosity=None),\n",
       "             iid='deprecated', n_jobs=-1,\n",
       "             param_grid={'colsample_bytree': [0.4, 0.5, 0.6],\n",
       "                         'gamma': [0.1, 0.2],\n",
       "                         'learning_rate': [0.01, 0.02, 0.05],\n",
       "                         'max_depth': [2, 3, 4, 5],\n",
       "                         'n_estimators': [100, 200, 500, 1000]},\n",
       "             pre_dispatch='2*n_jobs', refit=True, return_train_score=False,\n",
       "             scoring=None, verbose=2)"
      ]
     },
     "execution_count": 104,
     "metadata": {},
     "output_type": "execute_result"
    }
   ],
   "source": [
    "grid.fit(X_train, y_train)"
   ]
  },
  {
   "cell_type": "code",
   "execution_count": 105,
   "metadata": {},
   "outputs": [
    {
     "data": {
      "text/plain": [
       "{'colsample_bytree': 0.6,\n",
       " 'gamma': 0.1,\n",
       " 'learning_rate': 0.01,\n",
       " 'max_depth': 5,\n",
       " 'n_estimators': 1000}"
      ]
     },
     "execution_count": 105,
     "metadata": {},
     "output_type": "execute_result"
    }
   ],
   "source": [
    "grid.best_params_"
   ]
  },
  {
   "cell_type": "code",
   "execution_count": 106,
   "metadata": {},
   "outputs": [],
   "source": [
    "xgb1 = XGBRegressor(colsample_bytree = 0.6,learning_rate = 0.01, max_depth = 5, n_estimators = 1000)"
   ]
  },
  {
   "cell_type": "code",
   "execution_count": 107,
   "metadata": {},
   "outputs": [],
   "source": [
    "model_xgb = xgb1.fit(X_train, y_train)"
   ]
  },
  {
   "cell_type": "code",
   "execution_count": 114,
   "metadata": {},
   "outputs": [
    {
     "data": {
      "text/plain": [
       "array([ 48819.49, 120177.86, 140013.3 ,  78778.84, 130070.91],\n",
       "      dtype=float32)"
      ]
     },
     "execution_count": 114,
     "metadata": {},
     "output_type": "execute_result"
    }
   ],
   "source": [
    "model_xgb.predict(X_test)[15:20]"
   ]
  },
  {
   "cell_type": "code",
   "execution_count": 115,
   "metadata": {},
   "outputs": [
    {
     "data": {
      "text/plain": [
       "499     49000.0\n",
       "960    125500.0\n",
       "78     142500.0\n",
       "238     79500.0\n",
       "52     127000.0\n",
       "Name: Fiyat, dtype: float64"
      ]
     },
     "execution_count": 115,
     "metadata": {},
     "output_type": "execute_result"
    }
   ],
   "source": [
    "y_test[15:20]"
   ]
  },
  {
   "cell_type": "code",
   "execution_count": 110,
   "metadata": {},
   "outputs": [
    {
     "data": {
      "text/plain": [
       "0.9591446085339983"
      ]
     },
     "execution_count": 110,
     "metadata": {},
     "output_type": "execute_result"
    }
   ],
   "source": [
    "model_xgb.score(X_test, y_test)"
   ]
  },
  {
   "cell_type": "code",
   "execution_count": 111,
   "metadata": {},
   "outputs": [
    {
     "data": {
      "text/plain": [
       "0.9837824406629945"
      ]
     },
     "execution_count": 111,
     "metadata": {},
     "output_type": "execute_result"
    }
   ],
   "source": [
    "model_xgb.score(X_train, y_train)"
   ]
  },
  {
   "cell_type": "code",
   "execution_count": 112,
   "metadata": {},
   "outputs": [
    {
     "data": {
      "text/plain": [
       "9454.807304325674"
      ]
     },
     "execution_count": 112,
     "metadata": {},
     "output_type": "execute_result"
    }
   ],
   "source": [
    "np.sqrt(-1*(cross_val_score(model_xgb, X_test, y_test, cv=10, scoring='neg_mean_squared_error'))).mean()"
   ]
  },
  {
   "cell_type": "code",
   "execution_count": 113,
   "metadata": {},
   "outputs": [
    {
     "data": {
      "text/html": [
       "<div>\n",
       "<style scoped>\n",
       "    .dataframe tbody tr th:only-of-type {\n",
       "        vertical-align: middle;\n",
       "    }\n",
       "\n",
       "    .dataframe tbody tr th {\n",
       "        vertical-align: top;\n",
       "    }\n",
       "\n",
       "    .dataframe thead th {\n",
       "        text-align: right;\n",
       "    }\n",
       "</style>\n",
       "<table border=\"1\" class=\"dataframe\">\n",
       "  <thead>\n",
       "    <tr style=\"text-align: right;\">\n",
       "      <th></th>\n",
       "      <th>Importance</th>\n",
       "    </tr>\n",
       "  </thead>\n",
       "  <tbody>\n",
       "    <tr>\n",
       "      <th>Marka</th>\n",
       "      <td>0.101102</td>\n",
       "    </tr>\n",
       "    <tr>\n",
       "      <th>Seri</th>\n",
       "      <td>0.103811</td>\n",
       "    </tr>\n",
       "    <tr>\n",
       "      <th>Model</th>\n",
       "      <td>0.097050</td>\n",
       "    </tr>\n",
       "    <tr>\n",
       "      <th>Yıl</th>\n",
       "      <td>0.307879</td>\n",
       "    </tr>\n",
       "    <tr>\n",
       "      <th>Yakıt</th>\n",
       "      <td>0.213631</td>\n",
       "    </tr>\n",
       "    <tr>\n",
       "      <th>Vites</th>\n",
       "      <td>0.093907</td>\n",
       "    </tr>\n",
       "    <tr>\n",
       "      <th>Kilometre</th>\n",
       "      <td>0.082619</td>\n",
       "    </tr>\n",
       "  </tbody>\n",
       "</table>\n",
       "</div>"
      ],
      "text/plain": [
       "           Importance\n",
       "Marka        0.101102\n",
       "Seri         0.103811\n",
       "Model        0.097050\n",
       "Yıl          0.307879\n",
       "Yakıt        0.213631\n",
       "Vites        0.093907\n",
       "Kilometre    0.082619"
      ]
     },
     "execution_count": 113,
     "metadata": {},
     "output_type": "execute_result"
    }
   ],
   "source": [
    "importance = pd.DataFrame({\"Importance\": model_xgb.feature_importances_},\n",
    "                         index=X_train.columns)\n",
    "importance"
   ]
  },
  {
   "cell_type": "code",
   "execution_count": null,
   "metadata": {},
   "outputs": [],
   "source": [
    "import pickle\n",
    " \n",
    "with open('predict.pkl', 'wb') as f:\n",
    "    pickle.dump(model_xgb, f)"
   ]
  }
 ],
 "metadata": {
  "kernelspec": {
   "display_name": "Python 3",
   "language": "python",
   "name": "python3"
  },
  "language_info": {
   "codemirror_mode": {
    "name": "ipython",
    "version": 3
   },
   "file_extension": ".py",
   "mimetype": "text/x-python",
   "name": "python",
   "nbconvert_exporter": "python",
   "pygments_lexer": "ipython3",
   "version": "3.7.1"
  }
 },
 "nbformat": 4,
 "nbformat_minor": 2
}
